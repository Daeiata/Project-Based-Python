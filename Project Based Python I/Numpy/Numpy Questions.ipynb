{
 "cells": [
  {
   "cell_type": "markdown",
   "id": "f0e17ed0-07b8-4a4f-a0c7-fc2880e93df3",
   "metadata": {},
   "source": [
    "<img src=\"../../../images/banners/data_processing.png\" width=\"600\"/>"
   ]
  },
  {
   "cell_type": "markdown",
   "id": "ed7923bb-0caf-4148-a781-59926230b27a",
   "metadata": {},
   "source": [
    "# <img src=\"../../../../images/logos/python.png\" width=\"23\"/> NumPy"
   ]
  },
  {
   "cell_type": "markdown",
   "id": "dea142dd-cd82-45bb-8643-82a11500ba5d",
   "metadata": {},
   "source": [
    "**Question:**  \n",
    "Explain four top benefits of NumPy?\n",
    "\n",
    "**Answer:**\n",
    "1. **More speed:** NumPy uses algorithms written in C that complete in nanoseconds rather than seconds.\n",
    "2. **Fewer loops:** NumPy helps you to reduce loops and keep from getting tangled up in iteration indices.\n",
    "3. **Clearer code:** Without loops, your code will look more like the equations you’re trying to calculate.\n",
    "4. **Better quality:** There are thousands of contributors working to keep NumPy fast, friendly, and bug free.   "
   ]
  },
  {
   "cell_type": "markdown",
   "id": "a1bbab04-c99a-4432-a87d-07544fbca8ce",
   "metadata": {},
   "source": [
    "---"
   ]
  },
  {
   "cell_type": "markdown",
   "id": "831591c2-0d47-4df5-bd7e-054403d493ff",
   "metadata": {},
   "source": [
    "**Question:**  \n",
    "What does `ndarray` means?\n",
    "\n",
    "**Answer:**  \n",
    "An ndarray is a (usually fixed-size) multidimensional container of items of the same type and size."
   ]
  },
  {
   "cell_type": "markdown",
   "id": "2977a24c-2e17-44f0-882c-2ca1bc9744f2",
   "metadata": {},
   "source": [
    "---"
   ]
  },
  {
   "cell_type": "markdown",
   "id": "3f8e6595-8460-4975-85a4-f97607b88a9c",
   "metadata": {},
   "source": [
    "**Question:**  \n",
    "What is the use of `shape` in NumPy?\n",
    "\n",
    "**Answer:**  \n",
    "The number of dimensions and items in an array is defined by its shape, which is a tuple of N non-negative integers that specify the sizes of each dimension."
   ]
  },
  {
   "cell_type": "markdown",
   "id": "d89ae0bd-fe0a-4672-8efc-31ea9ec08461",
   "metadata": {},
   "source": [
    "---"
   ]
  },
  {
   "cell_type": "markdown",
   "id": "ae8657d5-17dc-47de-add1-96fae3e9e522",
   "metadata": {},
   "source": [
    "**Question:**   \n",
    "How can you specify the type of items in NumPy?\n",
    "\n",
    "**Answer:**  \n",
    "The type of items in the array is specified by a data-type object `dtype`, one of which is associated with each ndarray."
   ]
  },
  {
   "cell_type": "markdown",
   "id": "2e8be766-0716-473f-863f-9c694f0ef269",
   "metadata": {},
   "source": [
    "---"
   ]
  },
  {
   "cell_type": "markdown",
   "id": "40e03e3d-f7d4-4975-8cb4-99dfbdeb937c",
   "metadata": {},
   "source": [
    "**Question:**  \n",
    "Is it possible an ndarray be a `view` to another ndarray?\n",
    "\n",
    "**Answer:**  \n",
    "Yes, different ndarrays can share the same data, so that changes made in one ndarray may be visible in another. So, an ndarray can be a “view” to another ndarray, and the data it is referring to is taken care of by the “base” ndarray."
   ]
  },
  {
   "cell_type": "markdown",
   "id": "eb1029e0-c4b6-4cdc-b0f3-3ad33b50505d",
   "metadata": {},
   "source": [
    "---"
   ]
  },
  {
   "cell_type": "markdown",
   "id": "b1e84815-4930-49a5-a711-38f18ab47715",
   "metadata": {},
   "source": [
    "**Question:**  \n",
    "When you are creating an array from lists or tuples, what if the input consists of different data types? \n",
    "\n",
    "**Answer:**  \n",
    "The `array` function will normally cast all input elements into the most suitable data type required for the array. For example, if a list contains both floats and integers, the resulting array will be of type float. If it contains an integer and a boolean, the resulting array will consist of integers."
   ]
  },
  {
   "cell_type": "markdown",
   "id": "c50ea6e0-6f40-41f4-b67f-e9c2c61d17b5",
   "metadata": {},
   "source": [
    "---"
   ]
  },
  {
   "cell_type": "markdown",
   "id": "820cef00-e814-4985-815e-8e909438e4f4",
   "metadata": {},
   "source": [
    "**Question:**  \n",
    "What's the meaning of `vectorization` in NumPy?\n",
    "\n",
    "**Answer:**  \n",
    "Vectorization is the process of performing the same operation in the same way for each element in an array. This removes `for` loops from your code but achieves the same result."
   ]
  },
  {
   "cell_type": "markdown",
   "id": "655cd020-a6cf-48c2-88a5-8419d539f822",
   "metadata": {},
   "source": [
    "---"
   ]
  },
  {
   "cell_type": "markdown",
   "id": "4b799e91-ca89-4dbd-8089-c8e5334cb611",
   "metadata": {},
   "source": [
    "**Question:**  \n",
    "Which NumPy operations are vectorized?\n",
    "\n",
    "**Answer:**  \n",
    "All NumPy operations are vectorized, where you apply operations to the whole array instead of on each element individually. This is not just neat and handy but also improves the performance of computation compared to using loops."
   ]
  },
  {
   "cell_type": "markdown",
   "id": "734697f3-1746-4212-8737-9f2a753fc7fa",
   "metadata": {},
   "source": [
    "---"
   ]
  },
  {
   "cell_type": "markdown",
   "id": "9afe0d84-e3c7-4b5a-b228-eb338c6a18d0",
   "metadata": {},
   "source": [
    "**Question:**  \n",
    "Explain `broadcasting` in NumPy? What are the broadcasting rules?\n",
    "\n",
    "**Answer:**  \n",
    "The term broadcasting describes how NumPy treats arrays with different shapes during arithmetic operations. Subject to certain constraints, the smaller array is “broadcast” across the larger array so that they have compatible shapes. Broadcasting provides a means of vectorizing array operations so that looping occurs in C instead of Python. It does this without making needless copies of data and usually leads to efficient algorithm implementations. There are, however, cases where broadcasting is a bad idea because it leads to inefficient use of memory that slows computation.\n",
    "Two dimensions are compatible when they are equal or one of them is 1."
   ]
  },
  {
   "cell_type": "markdown",
   "id": "8490ae69-c5c4-40b5-8450-e1f89df8289c",
   "metadata": {},
   "source": [
    "---"
   ]
  },
  {
   "cell_type": "markdown",
   "id": "6c29ec13-b8d3-4b5c-a5da-6eb35a07fdbf",
   "metadata": {},
   "source": [
    "**Question:**  \n",
    "What's the difference between `C_CONTIGUOUS` flag and `F_CONTIGUOUS` flag of a NumPy array?\n",
    "\n",
    "**Answer:**  \n",
    "The difference between C and F is just whether the array is row major or column major (i.e. either row or column entries are stored in adjacent memory address). C_CONTIGUOUS means that operating row-rise on the array will be slightly quicker. F_CONTIGUOUS means that column-wise operations will be faster."
   ]
  },
  {
   "cell_type": "markdown",
   "id": "acb48f4e-dd2e-4039-b60c-468bda70fbac",
   "metadata": {},
   "source": [
    "---"
   ]
  },
  {
   "cell_type": "markdown",
   "id": "bea40f29-c29a-40e5-9edc-08f9a6160871",
   "metadata": {},
   "source": [
    "**Question:**  \n",
    "What's the difference between `view` and `copy` of a NumPy array?\n",
    "\n",
    "**Answer:**\n",
    "A view is a reference of the original array modifying a view modifies the original array too. This is not true for copies."
   ]
  },
  {
   "cell_type": "markdown",
   "id": "2c415982-726d-45ea-a26b-f0c4353c72d8",
   "metadata": {},
   "source": [
    "---"
   ]
  },
  {
   "cell_type": "markdown",
   "id": "eea73297-7778-4b83-bb64-bbdcc0769518",
   "metadata": {},
   "source": [
    "**Question:**  \n",
    "How can you determine whether two arrays are copies or views of each other?\n",
    "\n",
    "**Answer:**  \n",
    "By using `np.may_share_memory(array1, array2)` function in NumPy."
   ]
  },
  {
   "cell_type": "markdown",
   "id": "a5eec369-1c1a-4338-9eba-f697597863b4",
   "metadata": {},
   "source": [
    "---"
   ]
  },
  {
   "cell_type": "markdown",
   "id": "1946c0b5-0cb2-4d46-a745-1770d2a19796",
   "metadata": {},
   "source": [
    "**Question:**  \n",
    "What's the meaning of strides in `numpy.ndarray`?\n",
    "\n",
    "**Answer:**  \n",
    "Strides are the indexing scheme in NumPy arrays, and indicate the number of bytes to jump to find the next element."
   ]
  },
  {
   "cell_type": "markdown",
   "id": "6d64c65e-68d6-4f68-99ac-64b51600873e",
   "metadata": {},
   "source": [
    "---"
   ]
  },
  {
   "cell_type": "markdown",
   "id": "0afde7ee-a0f7-4701-b9ea-ea2286fcf61c",
   "metadata": {},
   "source": [
    "**Question:**  \n",
    "What's the output of the following code? Explain your answer.\n",
    "```\n",
    "import numpy as np\n",
    "x = np.arange(24, dtype = np.int16).reshape(2, 3, 4)\n",
    "x.strides\n",
    "```\n",
    "**Answer:**  \n",
    "24, 8, 2  \n",
    "The data type of this array is integer 16, which means each element in the array is an 16-bit integer (2-byte).\n",
    "This means the elements in the first dimension are 24 bytes apart, and the array need to jump 24 bytes to find the next element in this dimension. The elements in the second dimension are 8 byte apart, jumping 8 byte to find the next element in this dimension. And the elements in the last dimension are 2 bytes apart.\n"
   ]
  },
  {
   "cell_type": "markdown",
   "id": "6adef7bf-9781-4858-a275-5d46268dd656",
   "metadata": {},
   "source": [
    "---"
   ]
  },
  {
   "cell_type": "markdown",
   "id": "eb4a41c4-2dc1-41e7-ac82-c9a5e28de431",
   "metadata": {},
   "source": [
    "**Question:**  \n",
    "Can you guess what the output is? Explain your answer.\n",
    "```\n",
    "import numpy as np\n",
    "x = np.array([\n",
    "    [[5, 3, 7, 1, 2],\n",
    "     [2, 6, 4, 6 ,3]],\n",
    "    [[6, 1, 5, 1, 8],\n",
    "     [4, 3, 2, 0, 9],]\n",
    "])\n",
    "print(x.max(axis=2))\n",
    "```\n",
    "\n",
    "**Answer:**  \n",
    "```\n",
    "[[7 6]\n",
    " [8 9]]\n",
    "```\n",
    "Shape of this array is (2, 2, 5). Method `x.max(axis=2)` collapse and delete the third dimension and result array has shape (2, 2) with each value in the new array equal to the max of the corresponding collapsed values."
   ]
  },
  {
   "cell_type": "markdown",
   "id": "98c22026-ddef-42f6-ab08-2c9ad327082c",
   "metadata": {},
   "source": [
    "---"
   ]
  },
  {
   "cell_type": "markdown",
   "id": "435177c9-23b3-4641-9f85-a43561ae7112",
   "metadata": {},
   "source": [
    "**Question:**  \n",
    "How many kinds of indexing there are in NumPy?\n",
    "\n",
    "**Answer:**  \n",
    "There are different kinds of indexing available depending on obj:\n",
    "- Basic indexing\n",
    "- Advanced indexing\n",
    "- Field access"
   ]
  },
  {
   "cell_type": "markdown",
   "id": "1746d6e4-25a5-4fa8-a96e-fd761661f204",
   "metadata": {},
   "source": [
    "---"
   ]
  },
  {
   "cell_type": "markdown",
   "id": "d2af6647-ad18-4595-9221-1f22e8c2a4f2",
   "metadata": {},
   "source": [
    "**Question:**  \n",
    "NumPy basic slicing creates a view or a copy of the array?\n",
    "\n",
    "**Answer:**  \n",
    "NumPy basic slicing creates a view instead of a copy as in the case of built-in Python sequences such as string, tuple and list. Care must be taken when extracting a small portion from a large array which becomes useless after the extraction, because the small portion extracted contains a reference to the large original array whose memory will not be released until all arrays derived from it are garbage-collected. In such cases an explicit copy() is recommended."
   ]
  },
  {
   "cell_type": "markdown",
   "id": "fb4c6a53-1b2d-43a9-974a-e9fbd47d70cc",
   "metadata": {},
   "source": [
    "---"
   ]
  },
  {
   "cell_type": "markdown",
   "id": "b497a24a-34a6-4351-ac3a-6566b6a8670b",
   "metadata": {},
   "source": [
    "**Question:**\n",
    "What is the difference between `x[2]` and `x[0:2]` in the code below?\n",
    "```\n",
    "import numpy as np\n",
    "x = np.array([\n",
    "    [2, 0, 8, 4],\n",
    "    [9, 4, 6, 8],\n",
    "    [1, 3, 4, 6],\n",
    "])\n",
    "print(x[2])\n",
    "print(x[0:2])\n",
    "```\n",
    "**Answer:**  \n",
    "The output of `x[2]` (indexing) is the entire row with index 2 of array `x` that is equal to:\n",
    "```\n",
    "[1 3 4 6]\n",
    "```\n",
    "The output of `x[0:2]` (slicing) is a array with shape (2, 4) contains two rows of array `x` with index 0 and 1 that is equal to:\n",
    "```\n",
    "[[2 0 8 4]\n",
    " [9 4 6 8]]\n",
    "```"
   ]
  },
  {
   "cell_type": "markdown",
   "id": "65c630c4-b3b4-4cbe-b7f7-edb16ace3e3f",
   "metadata": {},
   "source": [
    "---"
   ]
  },
  {
   "cell_type": "markdown",
   "id": "074f5ae0-6d99-45eb-a5b6-870ee51c314d",
   "metadata": {},
   "source": [
    "**Question:**  \n",
    "What's NumPy advanced indexing?\n",
    "\n",
    "**Answer:**  \n",
    "Advanced indexing is triggered when the selection object is a non-tuple sequence object, an ndarray (of data type integer or bool), or a tuple with at least one sequence object or ndarray (of data type integer or bool). There are two types of advanced indexing:\n",
    "- Integer\n",
    "- Boolean\n",
    "\n",
    "Advanced indexing always returns a copy of the data (contrast with basic slicing that returns a view).\n"
   ]
  },
  {
   "cell_type": "markdown",
   "id": "f9744662-f49e-42c3-a6c3-e33c45dd6c1f",
   "metadata": {},
   "source": [
    "---"
   ]
  },
  {
   "cell_type": "markdown",
   "id": "39340ad4-16bd-4b30-9195-19372e6db6d5",
   "metadata": {},
   "source": [
    "**Question:**  \n",
    "We have an array like below. What is the difference between `x[0, 2]` and `x[[0, 2]]`?\n",
    "```\n",
    "x = np.array([\n",
    "    [10, 20, 30],\n",
    "    [40, 50, 60],\n",
    "    [70, 80, 90],\n",
    "])\n",
    "```\n",
    "**Answer:**  \n",
    "`x[0, 2]` is bacic indexing and the output is 30  \n",
    "`x[[0, 2]]` is advanced indexing and returns a copy of row 0 and row 2 of array x:\n",
    "```\n",
    "[[10 20 30]\n",
    " [70 80 90]]\n",
    " ```"
   ]
  },
  {
   "cell_type": "markdown",
   "id": "e444bdad-98d4-49b4-a0d6-b941888f8e00",
   "metadata": {},
   "source": [
    "---"
   ]
  },
  {
   "cell_type": "markdown",
   "id": "57ddb853-4519-4269-872d-49e19d05bda3",
   "metadata": {},
   "source": [
    "**Question:**  \n",
    "Can You use `and`, `or` operators in advanced indexing?\n",
    "\n",
    "**Answer:**  \n",
    "No, because the `and` , `or`  operate on the truth value of the whole array, not element by element.  \n",
    "You have to use `binary` operators such as `&`, `|`, `~` and etc.  NumPy designates them as the vectorized, element-wise operators to combine Booleans.\n"
   ]
  },
  {
   "cell_type": "markdown",
   "id": "b5dd5a02-38e0-4f32-a674-05b975f18f3f",
   "metadata": {},
   "source": [
    "---"
   ]
  },
  {
   "cell_type": "markdown",
   "id": "761cde29-dc3a-445f-a69c-820f66061f71",
   "metadata": {},
   "source": [
    "**Question:**  \n",
    "Consider the following array. Calculate the `sum` of elements greater than 20 and less than 90.\n",
    "```\n",
    "x = np.array([\n",
    "    [10, 20, 30],\n",
    "    [40, 50, 60],\n",
    "    [70, 80, 90],\n",
    "])\n",
    "```\n",
    "**Answer:**  \n",
    "```\n",
    "x[(x > 20) & (x < 90)].sum()\n",
    "```\n",
    "result = 330"
   ]
  },
  {
   "cell_type": "markdown",
   "id": "399db56a-2a3c-46e9-b703-30a6700af7ad",
   "metadata": {},
   "source": [
    "---"
   ]
  },
  {
   "cell_type": "markdown",
   "id": "3b66bafc-17ad-40ce-9689-c1ece548d9da",
   "metadata": {},
   "source": [
    "**Question:**  \n",
    "What is the default axis in `np.sort()` and what is the difference between this function and `.sort()` method?\n",
    "\n",
    "**Answer:**  \n",
    "The default axis is `-1` which means the last axis (the innermost dimension). The difference is `np.sort()` function returns a copy sorted array but `.sort()` method sorts the array in-place.\n"
   ]
  },
  {
   "cell_type": "markdown",
   "id": "f9dd811e-0059-4218-84a3-0a8d668976b2",
   "metadata": {},
   "source": [
    "---"
   ]
  },
  {
   "cell_type": "markdown",
   "id": "59e11f48-a7b9-4f63-9068-4603ccbcf62b",
   "metadata": {},
   "source": [
    "**Question:**   \n",
    "Consider following array. Explain what's the difference between`np.sort(x, axis=0)` and `np.sort(x, axis=1)`?\n",
    "```\n",
    "x = np.array([\n",
    "    [20, 70, 60],\n",
    "    [80, 50, 30],\n",
    "    [40, 10, 90],\n",
    "])\n",
    "```\n",
    "**Answer:**  \n",
    "In output of `np.sort(x, axis=0)`, each column of the array still has all of its elements but they have been sorted low-to-high inside that column:\n",
    "```\n",
    "[[20 10 30]\n",
    " [40 50 60]\n",
    " [80 70 90]]\n",
    "```\n",
    "Similarly `np.sort(x, axis=1)` do the same for rows:\n",
    "```\n",
    "[[20 60 70]\n",
    " [30 50 80]\n",
    " [10 40 90]]\n",
    "```\n"
   ]
  },
  {
   "cell_type": "markdown",
   "id": "48bf131f-759e-4c04-939c-6a604dad76fc",
   "metadata": {},
   "source": [
    "---"
   ]
  },
  {
   "cell_type": "markdown",
   "id": "5a9e16c4-1d8d-4026-9029-e96c13cee489",
   "metadata": {},
   "source": [
    "**Question:**  \n",
    "What if you modify the first element of following array to `'working'`?\n",
    "```\n",
    "x = np.array(['help', 'name', 'book'])\n",
    "x[0] = 'working'\n",
    "```\n",
    "**Answer:**  \n",
    "Array x would be:\n",
    "```\n",
    "['work' 'name' 'book']\n",
    "```\n",
    "NumPy truncates `'working'`, gets four characters and the rest get lost in the void.\n"
   ]
  },
  {
   "cell_type": "markdown",
   "id": "e8f6cb0d-98a9-4797-b68b-ff29601ff747",
   "metadata": {},
   "source": [
    "---"
   ]
  },
  {
   "cell_type": "markdown",
   "id": "e2744c21-f552-4a37-bd7e-e3927b6b713f",
   "metadata": {},
   "source": [
    "**Question:**  \n",
    "Create a numpy array named data contains following information to `print(data['Age'].mean())` returns 22.\n",
    "```\n",
    "Reza, 19\n",
    "Amir, 25\n",
    "Hamed, 22\n",
    "```\n",
    "**Answer:**\n",
    "```\n",
    "data = np.array([\n",
    "    ('Reza', 19),\n",
    "    ('Amir', 25),\n",
    "    ('Hamed', 22),\n",
    "],\n",
    "dtype = {\n",
    "    'names': ('Name', 'Age'),\n",
    "    'formats': ('U10', 'i2'),\n",
    "})\n",
    "print(data['Age'].mean())\n",
    "```"
   ]
  },
  {
   "cell_type": "markdown",
   "id": "a03ed670-2093-4922-9ad4-25b8a802cfdb",
   "metadata": {},
   "source": [
    "---"
   ]
  },
  {
   "cell_type": "markdown",
   "id": "d4f1bc6a-8f9a-49b2-9678-9a920e548e27",
   "metadata": {},
   "source": [
    "**Question:**  \n",
    "How can you store a Numpy array into a file as a text or csv file?\n",
    "\n",
    "\n",
    "**Answer:**  \n",
    "You can use the `np.savetxt()` function to handle the exporting. This function accepts:\n",
    "- first argument: exported file path\n",
    "- second argument: array name\n",
    "- third argument: context formating using the `fmt` keyword\n"
   ]
  },
  {
   "cell_type": "markdown",
   "id": "5af6588d-9117-4a5e-9cf2-399f77e0dc5d",
   "metadata": {},
   "source": [
    "---"
   ]
  },
  {
   "cell_type": "markdown",
   "id": "70ac324a-089b-4ee9-a46f-89afe86f6404",
   "metadata": {},
   "source": [
    "**Question:**  \n",
    "How can you read a text or csv file as a numpy array?\n",
    "\n",
    "**Answer:**  \n",
    "You can use `np.genfromtxt()` function and pass the followin to it:\n",
    "- file path\n",
    "- dtype\n",
    "- delimiter\n",
    "- and etc...  \n",
    "\n",
    "This functions returns a numpy array."
   ]
  },
  {
   "cell_type": "markdown",
   "id": "4b22f6dd-e7d5-41e9-9d7c-2ca900f914c5",
   "metadata": {},
   "source": [
    "---"
   ]
  },
  {
   "cell_type": "markdown",
   "id": "a5009d9a-62fc-491b-b165-bcd9cefc1e93",
   "metadata": {},
   "source": [
    "**Question:**  \n",
    "How can you save or load numpy arrays as numpy binary files?\n",
    "\n",
    "\n",
    "**Answer:**  \n",
    "In NumPy, the `load()`, `save()`, `savez()`, and `savez_compressed()` functions help you to load and save NumPy binary files.  \n",
    "NumPy binary files can store information about an array, even when you open the file on another machine with a different architecture. You can store your array shape and data type as well."
   ]
  },
  {
   "cell_type": "markdown",
   "id": "b92981f4-97a9-4313-936c-ce4ca6180a9e",
   "metadata": {},
   "source": [
    "---"
   ]
  },
  {
   "cell_type": "markdown",
   "id": "c3e6730e-bc54-47e7-9801-50e2c1cdd4bc",
   "metadata": {},
   "source": [
    "**Question:**  \n",
    "What is the difference between `save()` and `savez()` function in NumPy? What should be the extension of the file?\n",
    "\n",
    "**Answer:**  \n",
    "By using `save()` you can save one NumPy array and the file extension should be `.npy`, whereas by using `savez()` you can save multiple arrays in the file with extension `.npz`"
   ]
  },
  {
   "cell_type": "markdown",
   "id": "65ec8d48-9e2e-45d1-b889-4f66ab4ccd1c",
   "metadata": {},
   "source": [
    "---"
   ]
  }
 ],
 "metadata": {
  "kernelspec": {
   "display_name": "Python 3 (ipykernel)",
   "language": "python",
   "name": "python3"
  },
  "language_info": {
   "codemirror_mode": {
    "name": "ipython",
    "version": 3
   },
   "file_extension": ".py",
   "mimetype": "text/x-python",
   "name": "python",
   "nbconvert_exporter": "python",
   "pygments_lexer": "ipython3",
   "version": "3.9.7"
  }
 },
 "nbformat": 4,
 "nbformat_minor": 5
}
