{
 "cells": [
  {
   "cell_type": "markdown",
   "id": "82537be4-ad21-4b39-bbf0-d5c25d616068",
   "metadata": {},
   "source": [
    "# Pandas Questions"
   ]
  },
  {
   "cell_type": "markdown",
   "id": "2c0cca6f-5b09-40ba-b729-28661bd970e2",
   "metadata": {},
   "source": [
    "**Question:**  \n",
    "What are the three main data structures in pandas?\n",
    "\n",
    "**Answer:**  \n",
    "- Series (1D)\n",
    "- DataFrame (2D)\n",
    "- Panel (3D)"
   ]
  },
  {
   "cell_type": "markdown",
   "id": "fc0b4a7e-2211-45bd-8cc6-cd4e7c858fd1",
   "metadata": {},
   "source": [
    "---"
   ]
  },
  {
   "cell_type": "markdown",
   "id": "94c13167-5efd-438b-828e-30b71948a4f5",
   "metadata": {},
   "source": [
    "**Question:**  \n",
    "What is the definition of `Series` in pandas?\n",
    "\n",
    "**Answer:**  \n",
    "`Series` is a one-dimensional labeled array capable of holding any data type (integers, strings, floating point numbers, Python objects, etc.). The axis labels are collectively referred to as the index."
   ]
  },
  {
   "cell_type": "markdown",
   "id": "658c2f55-d901-4e3f-b6eb-9ecbdecd39ac",
   "metadata": {},
   "source": [
    "---"
   ]
  },
  {
   "cell_type": "markdown",
   "id": "1fd13988-3402-422b-8b39-5941dcfa974c",
   "metadata": {},
   "source": [
    "**Question:**  \n",
    "What can be used to create a pandas `Series`?\n",
    "\n",
    "**Answer:**  \n",
    "- ndarray\n",
    "- Python dict\n",
    "- scalar value"
   ]
  },
  {
   "cell_type": "markdown",
   "id": "983f9be8-177d-49dc-8cf6-898fbb9be397",
   "metadata": {},
   "source": [
    "---"
   ]
  },
  {
   "cell_type": "markdown",
   "id": "4a03d934-3dc5-47df-a2f5-f82d3b99ef3f",
   "metadata": {},
   "source": [
    "**Question:**  \n",
    "In the following example we want to create a pandas Series from a dictionary. What's the value for index `'b'` in the Series?\n",
    "```\n",
    "d = {'a': 10, 'c': 30, 'd': 40}\n",
    "pd.Series(d, index=['a', 'b', 'c', 'd'])\n",
    "```\n",
    "**Answer:**  \n",
    "The value for index 'b' will be `NaN` which stands for `Not a Number`.\n"
   ]
  },
  {
   "cell_type": "markdown",
   "id": "349d3319-aa89-4dcf-8267-2c53b7a8e74b",
   "metadata": {},
   "source": [
    "---"
   ]
  },
  {
   "cell_type": "markdown",
   "id": "e52ac2a3-d06e-4b8c-97b0-67a10e2cc648",
   "metadata": {},
   "source": [
    "**Question:**  \n",
    "Imagine you want to create a pandas Series which has the constant value 10 in four rows. Is the following code True?\n",
    "```\n",
    "pd.Series(10)\n",
    "```\n",
    "**Answer:**  \n",
    "Given code will create just one row with value 10. You have to specify the index for Series to create four rows. Index could be as follows:\n",
    "```\n",
    "pd.Series(10, index=range(4))\n",
    "```\n"
   ]
  },
  {
   "cell_type": "markdown",
   "id": "50fea358-008b-4da2-a53d-5410454f663b",
   "metadata": {},
   "source": [
    "---"
   ]
  },
  {
   "cell_type": "markdown",
   "id": "e39de5c2-a7cf-4f95-bbe0-d62a13e753b3",
   "metadata": {},
   "source": [
    "**Question:**  \n",
    "Pandas `Series` is ndarray-like, What does it mean?\n",
    "\n",
    "**Answer:**  \n",
    "Series acts very similarly to a ndarray, and is a valid argument to most `NumPy functions`. However, operations such as slicing will also slice the index. Series can also be passed into most `NumPy methods` expecting an ndarray."
   ]
  },
  {
   "cell_type": "markdown",
   "id": "65ce221a-c117-4d44-a972-c28b2e2c53a4",
   "metadata": {},
   "source": [
    "---"
   ]
  },
  {
   "cell_type": "markdown",
   "id": "e1ebc055-066a-4cfb-912d-75c00691bbd4",
   "metadata": {},
   "source": [
    "**Question:**  \n",
    "Pandas `Series` is dict-like, What does it mean?\n",
    "\n",
    "**Answer:**  \n",
    "A Series is like a fixed-size dict in that you can get and set values by index label.\n"
   ]
  },
  {
   "cell_type": "markdown",
   "id": "26146f42-dc86-40b0-aab1-57e8cc053365",
   "metadata": {},
   "source": [
    "---"
   ]
  },
  {
   "cell_type": "markdown",
   "id": "b58192ed-729e-4ca2-bae3-c77922746e3e",
   "metadata": {},
   "source": [
    "**Question:**  \n",
    "A student tries to change the name of a pandas Series with following code but as you see in the output, the name doesn't change! What is wrong in the code?\n",
    "```\n",
    "s = pd.Series([10, 20, 30], name='books')\n",
    "s.rename('cars')\n",
    "print(s)\n",
    "0    10\n",
    "1    20\n",
    "2    30\n",
    "Name: books, dtype: int64\n",
    "```\n",
    "**Answer:**  \n",
    "The method `.rename()` returns a copy of the original Series with a new name. It doesn't rename the original Series in-place. You have two options now:\n",
    "- store the output of `.rename()` method to a new parameter\n",
    "- use `s.name = 'cars'` instead of `.rename()` method.\n"
   ]
  },
  {
   "cell_type": "markdown",
   "id": "58654be9-e142-4420-acdf-c882072cfc7c",
   "metadata": {},
   "source": [
    "---"
   ]
  },
  {
   "cell_type": "markdown",
   "id": "32c45629-b96c-4571-b2f3-611ca6fd8b9f",
   "metadata": {},
   "source": [
    "**Question:**  \n",
    "Imagine you create a pandas Series from a numpy array. After that you change the first element of array. Can you guess what's the result of `print(s)`?\n",
    "```\n",
    "arr = np.array([10, 20, 30])\n",
    "s = pd.Series(arr)\n",
    "arr[0] = 500\n",
    "print(s)\n",
    "```\n",
    "**Answer:**  \n",
    "The Series s will change because it's a `memory view` of numpy array. If you change the array, the Series will be change.\n",
    "```\n",
    "0     500\n",
    "1     20\n",
    "2     30\n",
    "dtype: int64\n",
    "```"
   ]
  },
  {
   "cell_type": "markdown",
   "id": "6b1b396f-7f2b-492a-8f6b-f6e1004ae8cd",
   "metadata": {},
   "source": [
    "---"
   ]
  },
  {
   "cell_type": "markdown",
   "id": "245aba34-ac8b-4251-b581-0c1e152d5d19",
   "metadata": {},
   "source": [
    "**Question:**  \n",
    "What is the definition of pandas `DataFrame`?\n",
    "\n",
    "**Answer:**  \n",
    "DataFrame is a 2-dimensional labeled data structure with columns of potentially different types. You can think of it like a spreadsheet or SQL table, or a dict of Series objects. It is generally the most commonly used pandas object.\n"
   ]
  },
  {
   "cell_type": "markdown",
   "id": "d15c99a6-5990-43a3-9aa2-bc4191d48586",
   "metadata": {},
   "source": [
    "---"
   ]
  },
  {
   "cell_type": "markdown",
   "id": "0bf4160a-9bc9-4ca6-beb2-e9c2ce4206aa",
   "metadata": {},
   "source": [
    "**Question:**  \n",
    "How can you create a pandas `DataFrame`?\n",
    "\n",
    "**Answer:**  \n",
    "- Dictionary of 1D ndarrays, lists, dicts, or Series\n",
    "- 2-D numpy.ndarray\n",
    "- Structured or record ndarray\n",
    "- A Series\n",
    "- Another DataFrame\n"
   ]
  },
  {
   "cell_type": "markdown",
   "id": "06645037-9328-4732-9370-0a527938d829",
   "metadata": {},
   "source": [
    "---"
   ]
  },
  {
   "cell_type": "markdown",
   "id": "25c6d23b-0d05-4b7d-be31-02694c88652e",
   "metadata": {},
   "source": [
    "**Question:**  \n",
    "A student wants to set the index of DataFrame to **'number1'** and **'number2'**.\n",
    "As you see all the data is missed. Can you explain what happend and fix the code?\n",
    "```\n",
    "data = {\n",
    "    'name': pd.Series(['Ali', 'Reza']),\n",
    "    'age': pd.Series([25, 30]),\n",
    "}\n",
    "df = pd.DataFrame(data, index = ['number1', 'number2'])\n",
    "print(df)\n",
    "        name  age\n",
    "number1  NaN  NaN\n",
    "number2  NaN  NaN\n",
    "```\n",
    "\n",
    "**Answer:**  \n",
    "You are creating pandas DataFrame from dictionary of Series. A Series by default has indeces: 0, 1, 2, ...\n",
    "\n",
    "When you use `index` inside the `pd.DataFrame()` it selects the indices from the Series indices. Because there is no 'number1' and 'number2' indeces, the result is `NaN`. If you want to change the indeces, you can write the following code:\n",
    "```\n",
    "df = pd.DataFrame(data)\n",
    "df.index = ['number1', 'number2']\n",
    "print(df)\n",
    "         name  age\n",
    "number1   Ali   25\n",
    "number2  Reza   30\n",
    "```\n"
   ]
  },
  {
   "cell_type": "markdown",
   "id": "044a3e6d-9cb6-48cd-ae79-78e24f7dfdf8",
   "metadata": {},
   "source": [
    "---"
   ]
  },
  {
   "cell_type": "markdown",
   "id": "52240330-65dc-4ef3-b7cb-97de2269ccc5",
   "metadata": {},
   "source": [
    "**Question:**  \n",
    "What is the difference between this question and previous question? Why the result isn't `NaN` in this question? What is changed?\n",
    "\n",
    "**Answer:**  \n",
    "```\n",
    "data = {\n",
    "    'name': ['Ali', 'Reza'],\n",
    "    'age': [25, 30],\n",
    "}\n",
    "df = pd.DataFrame(data, index = ['number1', 'number2'])\n",
    "print(df)\n",
    "         name  age\n",
    "number1   Ali   25\n",
    "number2  Reza   30\n",
    "```\n",
    "Unlike the previous question, in this question the values of dictionary are `list` and Lists don't have indeces by default. When you use `index` inside the `pd.DataFrame()` there are no indeces to select, so it assigns the 'number1' and 'number2' as indeces."
   ]
  },
  {
   "cell_type": "markdown",
   "id": "75cf6e21-b58c-42f5-b925-365a8f8cea39",
   "metadata": {},
   "source": [
    "---"
   ]
  },
  {
   "cell_type": "markdown",
   "id": "35d58e5c-3eb5-4a45-9131-91876fa7882e",
   "metadata": {},
   "source": [
    "**Question:**  \n",
    "When you create a pandas DataFrame from a list of dictionaries, the keys of dictionary will be indeces or columns of DataFrame? Give an example.\n",
    "\n",
    "**Answer:**  \n",
    "They will be `columns` of DataFrame, for example:\n",
    "```\n",
    "data = [\n",
    "    {'name': 'Ali', 'Age': 25},\n",
    "    {'name': 'Reza', 'Age': 30},\n",
    "]\n",
    "df = pd.DataFrame(data)\n",
    "print(df)\n",
    "   name  Age\n",
    "0   Ali   25\n",
    "1  Reza   30\n",
    "```\n"
   ]
  },
  {
   "cell_type": "markdown",
   "id": "6cd10f18-3c84-4de6-af64-f21d98e83585",
   "metadata": {},
   "source": [
    "---"
   ]
  },
  {
   "cell_type": "markdown",
   "id": "ab9935f8-dd0e-421a-8c94-2647b1e3ffdb",
   "metadata": {},
   "source": [
    "**Question:**  \n",
    "How can you select a `column` from a pandas DataFrame (df)?\n",
    "\n",
    "**Answer:**  \n",
    "You select a column of DataFrame with its column_name. For example:\n",
    "```\n",
    "df['name']\n",
    "```\n"
   ]
  },
  {
   "cell_type": "markdown",
   "id": "6a8ce5f9-e025-4c90-87e5-890f8267d395",
   "metadata": {},
   "source": [
    "---"
   ]
  },
  {
   "cell_type": "markdown",
   "id": "75256e08-9271-4522-a143-a1451ad3edfa",
   "metadata": {},
   "source": [
    "**Question:**  \n",
    "How can you add a new `column` to a pandas DataFrame (df)?\n",
    "\n",
    "**Answer:**  \n",
    "Simply you can use `df[new_column] = new things` or you can use `.insert()` method if you want to add new column in particular location.\n"
   ]
  },
  {
   "cell_type": "markdown",
   "id": "23e05e3a-eacb-43a9-91f3-040bc4753f99",
   "metadata": {},
   "source": [
    "---"
   ]
  },
  {
   "cell_type": "markdown",
   "id": "d1fd9d92-b6d6-462d-9e06-34a92fcee9a2",
   "metadata": {},
   "source": [
    "**Question:**  \n",
    "How can you delete a `column` from a pandas DataFrame (df)?\n",
    "\n",
    "**Answer:**  \n",
    "You can use `del df[column_name]` or `.pop()` method to delete a column. \n"
   ]
  },
  {
   "cell_type": "markdown",
   "id": "157d7cb0-425e-4098-964e-d611334fc086",
   "metadata": {},
   "source": [
    "---"
   ]
  },
  {
   "cell_type": "markdown",
   "id": "d2791bc7-4048-4b20-8202-f04cb9b2a764",
   "metadata": {},
   "source": [
    "**Question:**  \n",
    "What's the difference between `.insert()` and `.assign()` method?\n",
    "\n",
    "**Answer:**  \n",
    "`.assign()` method allows you to easily create new columns that are potentially derived from existing columns. It always returns a copy of the data, leaving the original DataFrame untouched but `.insert()` Insert new column into DataFrame at specified location in-place.\n"
   ]
  },
  {
   "cell_type": "markdown",
   "id": "5708438b-5b43-48d1-9378-a2bbfe5a8cd4",
   "metadata": {},
   "source": [
    "---"
   ]
  },
  {
   "cell_type": "markdown",
   "id": "c71b913d-58e5-4978-ac8a-99a363e07463",
   "metadata": {},
   "source": [
    "**Question:**  \n",
    "What is the difference between `df[]`, `df.loc[]` and `df.iloc[]`?\n",
    "\n",
    "**Answer:**  \n",
    "`df[column_name]` returns the specified column with column_name.  \n",
    "`df.loc[]` and `df.iloc[]` return the spesified row as a Series whose index is the columns of the DataFrame. `df.loc[]` accepts row_name as input but `df.iloc[]` accepts purely integer-location of a row.\n"
   ]
  },
  {
   "cell_type": "markdown",
   "id": "ac863bec-a4cc-4b22-b3c5-a390695df3a8",
   "metadata": {},
   "source": [
    "---"
   ]
  },
  {
   "cell_type": "markdown",
   "id": "5b99dc3b-911b-4ea8-825e-436b53876319",
   "metadata": {},
   "source": [
    "**Question:**  \n",
    "What is the meaning of **data alignment** in pandas?\n",
    "\n",
    "**Answer:**  \n",
    "Data alignment between DataFrame objects automatically align on both the columns and the index (row labels). The resulting object will have the union of the column and row labels.\n"
   ]
  },
  {
   "cell_type": "markdown",
   "id": "b780564f-e174-4475-aa20-dd9df105da5d",
   "metadata": {},
   "source": [
    "---"
   ]
  },
  {
   "cell_type": "markdown",
   "id": "cb11fa30-6aeb-4cfd-a8a3-82c866f72cf6",
   "metadata": {},
   "source": [
    "**Question:**  \n",
    "A students wants to add the values of columns **'one'** to the all values of DataFrame and tries the following code:\n",
    "```\n",
    "df = pd.DataFrame(\n",
    "    {\"one\": [10, 20, 30],\"two\": [100, 200, 300],}\n",
    ")\n",
    "df = df + df['one']\n",
    "print(df)\n",
    "```\n",
    "Unfortunately the output is as follows:\n",
    "```\n",
    "   one  two   0   1   2\n",
    "0  NaN  NaN NaN NaN NaN\n",
    "1  NaN  NaN NaN NaN NaN\n",
    "2  NaN  NaN NaN NaN NaN\n",
    "```\n",
    "Can you help him to solve the problem?\n",
    "\n",
    "**Answer:**  \n",
    "By default `+` operator performs on columns (axis=columns). If you want to change the axis,you have to use `.add()` method and set the `axis` equal to `rows` :\n",
    "```\n",
    "df = df.add(df['one'], axis='rows')\n",
    "print(df)\n",
    "   one  two\n",
    "0   20  110\n",
    "1   40  220\n",
    "2   60  330\n",
    "```\n"
   ]
  },
  {
   "cell_type": "markdown",
   "id": "8cc91435-915f-4f89-acc3-3e81fa1b08e7",
   "metadata": {},
   "source": [
    "---"
   ]
  },
  {
   "cell_type": "markdown",
   "id": "ce001422-acaf-4aaf-85ac-6cd0dc50b643",
   "metadata": {},
   "source": [
    "**Question:**  \n",
    "Can you explain what will happend when you use `fill_value` option in arithmetic functions in pandas?\n",
    "\n",
    "**Answer:**  \n",
    "This option there is in functions like: `add()`, `sub()` and so on. Pandas fill existing missing (NaN) values, and any new element needed for successful DataFrame alignment, with this value before computation. If data in both corresponding DataFrame locations is missing the result will be missing.\n"
   ]
  },
  {
   "cell_type": "markdown",
   "id": "0b34a7d5-a65a-4d1d-b53c-e630b9b3527c",
   "metadata": {},
   "source": [
    "---"
   ]
  },
  {
   "cell_type": "markdown",
   "id": "bf07cc13-6963-4284-9198-5ee0ed3347d5",
   "metadata": {},
   "source": [
    "**Question:**  \n",
    "What is `.fillna()` method use for?\n",
    "\n",
    "**Answer:**  \n",
    "The `.fillna()` method replaces the `NULL` values with a specified value.\n",
    "\n",
    "The `.fillna()` method returns a new DataFrame object unless the inplace parameter is set to `True`, in that case the fillna() method does the replacing in the original DataFrame instead.\n"
   ]
  },
  {
   "cell_type": "markdown",
   "id": "1835b8f7-5d49-4777-8a0b-7898908d2375",
   "metadata": {},
   "source": [
    "---"
   ]
  },
  {
   "cell_type": "markdown",
   "id": "6bccf385-1beb-49e2-ac06-99ace0021aa4",
   "metadata": {},
   "source": [
    "**Question:**  \n",
    "What is the difference between `.all()` and `.any()` method in pandas?\n",
    "\n",
    "**Answer:**  \n",
    "- `.all()` does a logical **and** operation on a row or column of a DataFrame and returns the resultant Boolean value.\n",
    "- `.any()` does a logical **or** operation on a row or column of a DataFrame and returns the resultant Boolean value.\n"
   ]
  },
  {
   "cell_type": "markdown",
   "id": "fd23a5fe-5808-4025-9e47-9b4e848c6a7c",
   "metadata": {},
   "source": [
    "---"
   ]
  },
  {
   "cell_type": "markdown",
   "id": "b38897bb-b443-4f6d-9e0f-57d9e91cbaa5",
   "metadata": {},
   "source": [
    "**Question:**  \n",
    "Can you explain why the result of the following code is `False`? How can you check the equality of two pandas DataFrames which have `NaN` values?\n",
    "```\n",
    "df1 = pd.DataFrame([10, 20, np.nan], index=list('abc'))\n",
    "df2 = df1\n",
    "print((df2 == df1).all())\n",
    "0    False\n",
    "dtype: bool\n",
    "```\n",
    "**Answer:**  \n",
    "This is because `NaNs` do not compare as equals. You can use `.equals()` method for testing equality, with NaNs in corresponding locations treated as equal.\n",
    "```\n",
    "df2.equals(df1)\n",
    "True\n",
    "```"
   ]
  },
  {
   "cell_type": "markdown",
   "id": "4eb604f5-9634-4dd5-b176-2be6b0f83d7e",
   "metadata": {},
   "source": [
    "---"
   ]
  },
  {
   "cell_type": "markdown",
   "id": "07d441da-7e11-4c2f-942e-a478be415d58",
   "metadata": {},
   "source": [
    "**Question:**  \n",
    "What does `df1.combine_first(df2)` really works?\n",
    "\n",
    "**Answer:**  \n",
    "Combine two DataFrame objects by filling null values in df1 DataFrame with non-null values from df2 DataFrame. The row and column indexes of the resulting DataFrame will be the union of the two."
   ]
  },
  {
   "cell_type": "markdown",
   "id": "44f67ad1-867b-47f7-9a47-6937955fed48",
   "metadata": {},
   "source": [
    "---"
   ]
  },
  {
   "cell_type": "markdown",
   "id": "d527f27c-fe19-4d8a-a7a0-67d2e25cf5f3",
   "metadata": {},
   "source": [
    "**Question:**  \n",
    "\n",
    "\n",
    "**Answer:**  \n",
    "\n"
   ]
  },
  {
   "cell_type": "markdown",
   "id": "14dfcaa2-7997-4a88-80ec-f554da1421a7",
   "metadata": {},
   "source": [
    "---"
   ]
  },
  {
   "cell_type": "markdown",
   "id": "b40751fb-a7df-4aef-ad3a-cf39f94d3eb0",
   "metadata": {},
   "source": [
    "**Question:**  \n",
    "\n",
    "\n",
    "**Answer:**  \n",
    "\n"
   ]
  },
  {
   "cell_type": "markdown",
   "id": "7c7df6a8-fe64-4466-ab3d-594f0e11a568",
   "metadata": {},
   "source": [
    "---"
   ]
  },
  {
   "cell_type": "markdown",
   "id": "16c17153-0994-4b59-bcd4-6ff09adb2639",
   "metadata": {},
   "source": [
    "**Question:**  \n",
    "\n",
    "\n",
    "**Answer:**  \n",
    "\n"
   ]
  },
  {
   "cell_type": "markdown",
   "id": "ea14a35d-7a98-4c23-b280-d04a773b6cfe",
   "metadata": {},
   "source": [
    "---"
   ]
  },
  {
   "cell_type": "markdown",
   "id": "7b477c70-4cfa-436f-a44b-6cb324890931",
   "metadata": {},
   "source": [
    "**Question:**  \n",
    "\n",
    "\n",
    "**Answer:**  \n",
    "\n"
   ]
  },
  {
   "cell_type": "markdown",
   "id": "bd9c40f2-d32b-4044-ba77-94cb9edac3ac",
   "metadata": {},
   "source": [
    "---"
   ]
  },
  {
   "cell_type": "markdown",
   "id": "ed15b3f4-3b6f-4b6b-a2c7-5fa9c304c75f",
   "metadata": {},
   "source": [
    "**Question:**  \n",
    "\n",
    "\n",
    "**Answer:**  \n",
    "\n"
   ]
  },
  {
   "cell_type": "markdown",
   "id": "d6391735-ee2f-4890-bc3d-221aba7d59eb",
   "metadata": {},
   "source": [
    "---"
   ]
  },
  {
   "cell_type": "markdown",
   "id": "05a5d22a-085a-43c2-94c7-c337894caf9e",
   "metadata": {},
   "source": [
    "**Question:**  \n",
    "\n",
    "\n",
    "**Answer:**  \n",
    "\n"
   ]
  },
  {
   "cell_type": "markdown",
   "id": "f25023fb-0248-4c1c-ae41-66fd2b22910d",
   "metadata": {},
   "source": [
    "---"
   ]
  },
  {
   "cell_type": "markdown",
   "id": "c1a0d034-020b-4219-811d-8e8a4631bfc2",
   "metadata": {},
   "source": [
    "**Question:**  \n",
    "\n",
    "\n",
    "**Answer:**  \n",
    "\n"
   ]
  },
  {
   "cell_type": "markdown",
   "id": "18eb04b2-7d7c-44a0-a7ad-3f3c27ab53c0",
   "metadata": {},
   "source": [
    "---"
   ]
  }
 ],
 "metadata": {
  "kernelspec": {
   "display_name": "Python 3 (ipykernel)",
   "language": "python",
   "name": "python3"
  },
  "language_info": {
   "codemirror_mode": {
    "name": "ipython",
    "version": 3
   },
   "file_extension": ".py",
   "mimetype": "text/x-python",
   "name": "python",
   "nbconvert_exporter": "python",
   "pygments_lexer": "ipython3",
   "version": "3.9.7"
  }
 },
 "nbformat": 4,
 "nbformat_minor": 5
}
