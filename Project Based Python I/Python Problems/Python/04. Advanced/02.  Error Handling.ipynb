{
 "cells": [
  {
   "cell_type": "markdown",
   "id": "4e280a90-c024-44a8-80fc-33e3bb2f9a54",
   "metadata": {},
   "source": [
    "<img src=\"../../images/banners/python-advanced.png\" width=\"600\"/>"
   ]
  },
  {
   "cell_type": "markdown",
   "id": "4d7d62d6-d5dd-46ac-a30b-87fd85a90bbb",
   "metadata": {},
   "source": [
    "# <img src=\"../../images/logos/python.png\" width=\"23\"/> Error Handling Problems"
   ]
  },
  {
   "cell_type": "markdown",
   "id": "330e160b-5087-4e8e-8910-c5e83cd5928f",
   "metadata": {},
   "source": [
    "## Problem 1"
   ]
  },
  {
   "cell_type": "markdown",
   "id": "3197ed4f-dc11-4a17-a490-3b19665ab42c",
   "metadata": {},
   "source": [
    "Here is a function that converts a temperature from Kelvin to Fahrenheit degrees.  \n",
    "```python\n",
    "def kelvin_to_fahrenheit(temperature):\n",
    "    return ((temperature-273)*1.8)+32\n",
    "```\n",
    "Because zero Kelvin is as cold as it gets, change the code to raise an `AssertionError` if it sees a negative temperature. For example:"
   ]
  },
  {
   "cell_type": "markdown",
   "id": "82f77426-b566-444c-99f2-99a23fc42ec7",
   "metadata": {},
   "source": [
    "Input:\n",
    "```python\n",
    "print(kelvin_to_fahrenheit(-5))\n",
    "```\n",
    "Output:\n",
    "```python\n",
    "AssertionError: Colder than absolute zero!\n",
    "```"
   ]
  },
  {
   "cell_type": "markdown",
   "id": "3a1033a5-26f6-44fd-8069-892ac210786c",
   "metadata": {},
   "source": [
    "## Solution"
   ]
  },
  {
   "cell_type": "code",
   "execution_count": null,
   "id": "7ea1f004-a30f-4151-b566-4b50b0949f08",
   "metadata": {},
   "outputs": [],
   "source": [
    "def kelvin_to_fahrenheit(temperature):\n",
    "    \n",
    "    assert (temperature >= 0),\"Colder than absolute zero!\"\n",
    "    return ((temperature-273)*1.8)+32\n",
    "#--------------------------------------\n",
    "print(kelvin_to_fahrenheit(273))\n",
    "print(kelvin_to_fahrenheit(-5))"
   ]
  },
  {
   "cell_type": "markdown",
   "id": "4d4544da-d0db-43a7-995e-ec7146211b45",
   "metadata": {},
   "source": [
    "---"
   ]
  },
  {
   "cell_type": "markdown",
   "id": "a5bb5a79-7e29-412a-93e7-e15518e3deb5",
   "metadata": {},
   "source": [
    "## Problem 2"
   ]
  },
  {
   "cell_type": "markdown",
   "id": "ab7f3f23-05f3-4577-9764-7dc403d5b274",
   "metadata": {},
   "source": [
    "Look at the following code:\n",
    "```python\n",
    "x = int(input('Enter an integer: '))\n",
    "```\n",
    "If user inputs a non-integer, `int()` function raise a `ValueError` exception.  \n",
    "Use error handling and while loop to make sure that the user inputs an integer."
   ]
  },
  {
   "cell_type": "markdown",
   "id": "f280a39c-01b9-4aa3-b91c-ccf27df32ec9",
   "metadata": {},
   "source": [
    "## Solution"
   ]
  },
  {
   "cell_type": "code",
   "execution_count": null,
   "id": "d4d07191-1084-4e16-b9d9-4611acc99ebf",
   "metadata": {},
   "outputs": [],
   "source": [
    "while True:\n",
    "    try:\n",
    "        x = int(input('Enter an integer: '))\n",
    "        break\n",
    "    except ValueError:\n",
    "        print('your input isn\\'t an integer!')\n",
    "        continue"
   ]
  },
  {
   "cell_type": "markdown",
   "id": "d336421b-23dc-4f5d-ad14-420e1598ce08",
   "metadata": {},
   "source": [
    "---"
   ]
  },
  {
   "cell_type": "markdown",
   "id": "c91719d5-b741-49df-b1d0-21ad7bc50174",
   "metadata": {},
   "source": [
    "## Problem 3"
   ]
  },
  {
   "cell_type": "markdown",
   "id": "69318a85-5e8e-401b-baba-65339f1b7665",
   "metadata": {},
   "source": [
    "Write a function that takes a list object and append 'new_item' to it. What if you call this function with a non-list argument?  \n",
    "Handle the exception by try/except block so that function shows a message when raising exception.  \n",
    "\n",
    "Example :\n",
    "```python\n",
    "func_append('hello')\n",
    "```\n",
    "Output:  \n",
    "Error! type of (hello) isn't list"
   ]
  },
  {
   "cell_type": "code",
   "execution_count": null,
   "id": "ddd05b26-c50a-480e-9f57-6021adaca51a",
   "metadata": {},
   "outputs": [],
   "source": [
    "def func_append(x):\n",
    "    try:\n",
    "        x.append('new_item')\n",
    "        \n",
    "    except AttributeError:\n",
    "        print(f'Error! type of ({x}) isn\\'t list')\n",
    "        return None \n",
    "    return x\n",
    "#---------------------\n",
    "func_append('hello')"
   ]
  },
  {
   "cell_type": "markdown",
   "id": "fd68e161-9ccb-4619-adde-0c2dd140ee88",
   "metadata": {},
   "source": [
    "---"
   ]
  }
 ],
 "metadata": {
  "kernelspec": {
   "display_name": "Python 3 (ipykernel)",
   "language": "python",
   "name": "python3"
  },
  "language_info": {
   "codemirror_mode": {
    "name": "ipython",
    "version": 3
   },
   "file_extension": ".py",
   "mimetype": "text/x-python",
   "name": "python",
   "nbconvert_exporter": "python",
   "pygments_lexer": "ipython3",
   "version": "3.9.16"
  }
 },
 "nbformat": 4,
 "nbformat_minor": 5
}
