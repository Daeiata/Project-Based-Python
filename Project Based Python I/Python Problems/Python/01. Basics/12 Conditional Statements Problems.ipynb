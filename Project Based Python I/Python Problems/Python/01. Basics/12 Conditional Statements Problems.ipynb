{
 "cells": [
  {
   "cell_type": "markdown",
   "id": "098a5ae5-687a-44a9-97c3-20a543b284b3",
   "metadata": {},
   "source": [
    "<img src=\"../../images/banners/python-basics.png\" width=\"600\"/>"
   ]
  },
  {
   "cell_type": "markdown",
   "id": "f276996f-0260-479d-8a0f-8a922f1b447a",
   "metadata": {},
   "source": [
    "# <img src=\"../../images/logos/python.png\" width=\"23\"/> Conditional Statements in Python Problems"
   ]
  },
  {
   "cell_type": "markdown",
   "id": "3080c183-e360-4cb1-8982-800995b1cdb1",
   "metadata": {},
   "source": [
    "## Problem 1"
   ]
  },
  {
   "cell_type": "markdown",
   "id": "c91ac794-b66d-4389-bedd-f3378fcdc97d",
   "metadata": {},
   "source": [
    "Write a Python program to get a newly-generated string from a given string where \"is\" has been added to the front. Return the string unchanged if the given string already begins with \"is\"."
   ]
  },
  {
   "cell_type": "markdown",
   "id": "2f7ff37a-37a8-4f3d-b9f6-3ace46f0724e",
   "metadata": {},
   "source": [
    "input: 'isnum'  >>> output : isnum"
   ]
  },
  {
   "cell_type": "markdown",
   "id": "96a5ec64-5f50-4af3-b6c1-c14303805014",
   "metadata": {},
   "source": [
    "input: 'num'    >>> output: isnum"
   ]
  },
  {
   "cell_type": "markdown",
   "id": "0780797c-2fcb-44ec-8711-1d5bbc602f72",
   "metadata": {},
   "source": [
    "## Solution:"
   ]
  },
  {
   "cell_type": "code",
   "execution_count": null,
   "id": "6c369876-35da-41d0-99b2-d153376b051f",
   "metadata": {},
   "outputs": [],
   "source": [
    "text = input('Please input a string: ')\n",
    "if len(text) >= 2 and text[:2] == \"is\":\n",
    "    print(text)\n",
    "else:\n",
    "    print('is' + text)"
   ]
  },
  {
   "cell_type": "markdown",
   "id": "49bdbc86-1a90-4927-ad3c-17535df58448",
   "metadata": {},
   "source": [
    "***"
   ]
  },
  {
   "cell_type": "markdown",
   "id": "9201fb94-5d13-438e-b4c6-b70473878bfd",
   "metadata": {},
   "source": [
    "## Problem 2"
   ]
  },
  {
   "cell_type": "markdown",
   "id": "1d6d22c5-0c6b-4bbd-a651-be0b75eeee42",
   "metadata": {},
   "source": [
    "Write a Python program to sum two given integers. However, if the sum is between 15 and 20 it will return 20"
   ]
  },
  {
   "cell_type": "markdown",
   "id": "34d37fd6-f0d5-4fbb-bff0-4ec8dddfd041",
   "metadata": {},
   "source": [
    "**Hint:** if you know how to define a function, you can use it."
   ]
  },
  {
   "cell_type": "markdown",
   "id": "92acb747-175b-4c37-8d16-94831e1c2e38",
   "metadata": {},
   "source": [
    "## Solution:"
   ]
  },
  {
   "cell_type": "code",
   "execution_count": null,
   "id": "bd1238bb-5979-4db1-b7e2-fa88177b23a0",
   "metadata": {},
   "outputs": [],
   "source": [
    "def add(x, y):\n",
    "    total = x + y\n",
    "    if total in range(15, 20):\n",
    "        return 20\n",
    "    else:\n",
    "        return total\n",
    "\n",
    "print(add(10, 6))\n",
    "print(add(10, 2))\n",
    "print(add(10, 12))"
   ]
  },
  {
   "cell_type": "markdown",
   "id": "37313674-259b-4f4a-abd3-733b890ed584",
   "metadata": {},
   "source": [
    "***"
   ]
  }
 ],
 "metadata": {
  "kernelspec": {
   "display_name": "Python 3 (ipykernel)",
   "language": "python",
   "name": "python3"
  },
  "language_info": {
   "codemirror_mode": {
    "name": "ipython",
    "version": 3
   },
   "file_extension": ".py",
   "mimetype": "text/x-python",
   "name": "python",
   "nbconvert_exporter": "python",
   "pygments_lexer": "ipython3",
   "version": "3.9.16"
  }
 },
 "nbformat": 4,
 "nbformat_minor": 5
}
