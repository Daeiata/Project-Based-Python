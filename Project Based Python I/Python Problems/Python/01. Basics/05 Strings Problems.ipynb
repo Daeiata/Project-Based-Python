{
 "cells": [
  {
   "cell_type": "markdown",
   "id": "e73f17de-9bdb-48d9-9272-3d566f1d15e9",
   "metadata": {},
   "source": [
    "<img src=\"../../images/banners/python-basics.png\" width=\"600\"/>\n"
   ]
  },
  {
   "cell_type": "markdown",
   "id": "ff9c54e1-52a6-4a41-861f-9ee365027c17",
   "metadata": {},
   "source": [
    "# <img src=\"../../images/logos/python.png\" width=\"23\"/> Strings Problems"
   ]
  },
  {
   "cell_type": "markdown",
   "id": "f8125327-f0d6-426e-8b77-4f5e6fe7bae4",
   "metadata": {},
   "source": [
    "## Problem 1"
   ]
  },
  {
   "cell_type": "markdown",
   "id": "8e6c4d22-2584-4c7d-8a63-5eeb90b9d52f",
   "metadata": {},
   "source": [
    "Write a Python program that replaces last four digits of a telephone number with **\"*\"**"
   ]
  },
  {
   "cell_type": "markdown",
   "id": "56e65846-ac73-43d5-8e86-2f645fc7fdcc",
   "metadata": {},
   "source": [
    "## Solution:"
   ]
  },
  {
   "cell_type": "code",
   "execution_count": null,
   "id": "4fd7788e-65c1-4a41-a8ff-340d596a1d76",
   "metadata": {},
   "outputs": [],
   "source": [
    "phone_number = '09357891456'\n",
    "phone_number[:-4] + '*'*(4) "
   ]
  },
  {
   "cell_type": "markdown",
   "id": "cdfe31f5-8e84-4951-a760-ca4960fd2332",
   "metadata": {},
   "source": [
    "***"
   ]
  },
  {
   "cell_type": "markdown",
   "id": "a875dd9e-f3f8-4995-a622-617aebe02755",
   "metadata": {},
   "source": [
    "## Problem 2"
   ]
  },
  {
   "cell_type": "markdown",
   "id": "d87f3940-a9f6-4074-b056-43f5d44083c0",
   "metadata": {},
   "source": [
    "Write a Python program that accepts one digit (n) and computes the value of n+nn+nnn."
   ]
  },
  {
   "cell_type": "markdown",
   "id": "f1286299-95df-4faf-a672-8541dc9a07be",
   "metadata": {},
   "source": [
    "Sample input for n:<b> 5"
   ]
  },
  {
   "cell_type": "markdown",
   "id": "fed80f43-08ed-4886-9f2a-536dd363b64a",
   "metadata": {},
   "source": [
    "Output:<b> 615\n"
   ]
  },
  {
   "cell_type": "markdown",
   "id": "928045c7-448c-491d-bbed-c4e1153a5fea",
   "metadata": {},
   "source": [
    "# Solution"
   ]
  },
  {
   "cell_type": "code",
   "execution_count": null,
   "id": "b3ee08a7-783d-49c6-8fe5-a256beb92697",
   "metadata": {},
   "outputs": [],
   "source": [
    "a = input(\"Input a digit : \")\n",
    "n1 = int(a)\n",
    "n2 = int(a + a)\n",
    "n3 = int(a + a + a)\n",
    "print(n1+n2+n3)"
   ]
  },
  {
   "cell_type": "markdown",
   "id": "628ababa-d465-45fa-9ec3-5dcc156386b0",
   "metadata": {
    "tags": []
   },
   "source": [
    "***"
   ]
  }
 ],
 "metadata": {
  "kernelspec": {
   "display_name": "Python 3 (ipykernel)",
   "language": "python",
   "name": "python3"
  },
  "language_info": {
   "codemirror_mode": {
    "name": "ipython",
    "version": 3
   },
   "file_extension": ".py",
   "mimetype": "text/x-python",
   "name": "python",
   "nbconvert_exporter": "python",
   "pygments_lexer": "ipython3",
   "version": "3.9.16"
  }
 },
 "nbformat": 4,
 "nbformat_minor": 5
}
