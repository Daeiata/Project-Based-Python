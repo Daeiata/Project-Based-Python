{
 "cells": [
  {
   "cell_type": "markdown",
   "id": "787f395b-0545-4fd0-941a-76aed624ef4d",
   "metadata": {},
   "source": [
    "<img src=\"../../images/banners/python-basics.png\" width=\"600\"/>"
   ]
  },
  {
   "cell_type": "markdown",
   "id": "b2d772ca-d1cc-4050-bc5e-0ddfa8b09b67",
   "metadata": {},
   "source": [
    "# <img src=\"../../images/logos/python.png\" width=\"23\"/> Comprehension Problems"
   ]
  },
  {
   "cell_type": "markdown",
   "id": "3e997e56-205f-47e0-99f8-e97778d718af",
   "metadata": {},
   "source": [
    "## Problem 1 "
   ]
  },
  {
   "cell_type": "markdown",
   "id": "4ffa98de-28bf-4392-8b28-93b6ed4dc132",
   "metadata": {},
   "source": [
    "Write a Python program to find all the factors of a given natural number.<br>\n",
    "The factors of a number are the numbers that divide into it exactly."
   ]
  },
  {
   "cell_type": "markdown",
   "id": "fb435873-c4cf-4737-9f05-9ba173dc3e84",
   "metadata": {},
   "source": [
    "Example: The number 12 has six factors:\n",
    "1, 2, 3, 4, 6 and 12"
   ]
  },
  {
   "cell_type": "markdown",
   "id": "588ae7e5-739b-42d3-9af5-c05df27c40cd",
   "metadata": {},
   "source": [
    "## Solution:"
   ]
  },
  {
   "cell_type": "code",
   "execution_count": null,
   "id": "b682091c-7a7f-48fc-a901-2a2480b3f510",
   "metadata": {},
   "outputs": [],
   "source": [
    "n = 12\n",
    "[fac for fac in range(1, n+1) if n % fac ==0]"
   ]
  },
  {
   "cell_type": "markdown",
   "id": "b2adb92d-c09c-4767-8497-67db152b175a",
   "metadata": {},
   "source": [
    "***"
   ]
  },
  {
   "cell_type": "markdown",
   "id": "e7525486-5258-45d8-a81c-10055aa390f1",
   "metadata": {},
   "source": [
    "## Problem 2"
   ]
  },
  {
   "cell_type": "markdown",
   "id": "3b948777-adbd-44f9-9526-ba78452ecc6f",
   "metadata": {},
   "source": [
    "Write a Python program to find the indices of all occurrences of a given item in a given list."
   ]
  },
  {
   "cell_type": "markdown",
   "id": "a6e9c1a8-7675-43f0-92f5-23e110f5713e",
   "metadata": {},
   "source": [
    "input: nums_list = [54, 25, 87, 64, 54, 78, 54]"
   ]
  },
  {
   "cell_type": "markdown",
   "id": "a5493677-794a-4033-9fad-d34cd2bec7b7",
   "metadata": {},
   "source": [
    "output for 54 : [0, 4, 6]"
   ]
  },
  {
   "cell_type": "markdown",
   "id": "294ca663-47de-4ec8-8ca6-4302b0f9ddb1",
   "metadata": {},
   "source": [
    "## Solutions:"
   ]
  },
  {
   "cell_type": "code",
   "execution_count": null,
   "id": "c6ed23ec-d359-4df5-ade6-4caff80fdd63",
   "metadata": {},
   "outputs": [],
   "source": [
    "nums_list = [54, 25, 87, 64, 54, 78, 54]\n",
    "n = 54\n",
    "[idx for idx, i in enumerate(nums_list) if i == n]"
   ]
  },
  {
   "cell_type": "markdown",
   "id": "19f96878-fdbf-4cc5-87cb-18e881f8457d",
   "metadata": {},
   "source": [
    "***"
   ]
  },
  {
   "cell_type": "markdown",
   "id": "92672ea2-2ace-49c6-8ec3-f5acdc6aa1ec",
   "metadata": {},
   "source": [
    "## Problem 3"
   ]
  },
  {
   "cell_type": "markdown",
   "id": "32b47525-95ab-4f0e-ac41-d93f11b44fa6",
   "metadata": {},
   "source": [
    "We have two list. First is the name of students, second is their scores in order:\n",
    "\n",
    "```python\n",
    "students = ['Ali', 'Mohsen', 'Maryam', 'Neda', 'Reza', 'Asal']\n",
    "scores = [5, 18, 10, 6, 20, 15]\n",
    "```"
   ]
  },
  {
   "cell_type": "markdown",
   "id": "20d48b96-7b59-4738-b44e-e4146c75a6f5",
   "metadata": {},
   "source": [
    "We ask you to do the following:\n",
    "    \n",
    "1. Combine the values of the two lists into a dictionary.\n",
    "2. Find the student who has the highest score.\n",
    "3. Find all students who scored less than 10. Show their name and score.\n",
    "4. Find the three students who have the highest score in order.\n",
    "5. Sort the combined dictionary base on scores in descending order and make a sorted dictionary (Not a list)."
   ]
  },
  {
   "cell_type": "markdown",
   "id": "1b6b8178-72e3-4278-b1e3-9390f1d00635",
   "metadata": {},
   "source": [
    "**output:**\n",
    "1. combined dictionaty: <br>\n",
    "{'Ali': 5, 'Mohsen': 18, 'Maryam': 10, 'Neda': 6, 'Reza': 20, 'Asal': 15}\n",
    "2. student with max score: <br>\n",
    "Reza\n",
    "3. students who scored less than 10: <br>\n",
    "{'Ali': 5, 'Neda': 6}\n",
    "4. top three students: <br>\n",
    "['Reza', 'Mohsen', 'Asal']\n",
    "5. sorted dictionary: <br>\n",
    "{'Reza': 20, 'Mohsen': 18, 'Asal': 15, 'Maryam': 10, 'Neda': 6, 'Ali': 5}"
   ]
  },
  {
   "cell_type": "markdown",
   "id": "cb92a576-082a-45c0-8027-3dec11292b35",
   "metadata": {},
   "source": [
    "## Solution:"
   ]
  },
  {
   "cell_type": "code",
   "execution_count": null,
   "id": "f9648eef-d320-47b8-8099-2395920db579",
   "metadata": {},
   "outputs": [],
   "source": [
    "students = ['Ali', 'Mohsen', 'Maryam', 'Neda', 'Reza', 'Asal']\n",
    "scores = [5, 18, 10, 6, 20, 15]\n",
    "\n",
    "#---------------------------------------------\n",
    "new_dict = {key: value for key, value in zip(students, scores)}\n",
    "print('\\n1. combined dictionaty: ')\n",
    "print(new_dict)\n",
    "\n",
    "#--------------------------------------------\n",
    "max_score = max(new_dict, key=new_dict.get)\n",
    "print('\\n2. student with max score: ')\n",
    "print(max_score)\n",
    "\n",
    "#--------------------------------------------\n",
    "less_scores = {key: value for key, value in new_dict.items() if value < 10}\n",
    "print('\\n3. students who scored less than 10: ')\n",
    "print(less_scores)\n",
    "\n",
    "#--------------------------------------------\n",
    "three_max = sorted(new_dict, key=new_dict.get, reverse=True)[:3]\n",
    "print('\\n4. top three students: ')\n",
    "print(three_max)\n",
    "\n",
    "#-------------------------------------------------------------\n",
    "sorted_list = sorted(new_dict.items(), key=lambda x:x[1], reverse=True)\n",
    "sorted_dict = {key: value for key, value in sorted_list}\n",
    "print('\\n5. sorted dictionary:')\n",
    "print(sorted_dict)"
   ]
  },
  {
   "cell_type": "markdown",
   "id": "80664d04-ac50-41d1-aefd-c600d0080370",
   "metadata": {
    "tags": []
   },
   "source": [
    "***"
   ]
  },
  {
   "cell_type": "markdown",
   "id": "d1930a34-ea33-4394-a0e1-46997395fbf0",
   "metadata": {},
   "source": [
    "## Problem 4"
   ]
  },
  {
   "cell_type": "markdown",
   "id": "11bf4ac6-5dea-4337-a8b0-218a758a2d86",
   "metadata": {},
   "source": [
    "Write a Python program to calculate the average of the numbers in a given tuple of tuples."
   ]
  },
  {
   "cell_type": "markdown",
   "id": "a57a0bd8-41a1-4542-afdf-dc21fbac4657",
   "metadata": {},
   "source": [
    "input:\n",
    "```python\n",
    "nums = ((10, 10, 10, 12), (30, 45, 56, 45), (81, 80, 39, 32), (1, 2, 3, 4))\n",
    "```"
   ]
  },
  {
   "cell_type": "markdown",
   "id": "0bd61235-1717-46bf-9db4-9d7d65f72979",
   "metadata": {},
   "source": [
    "output:\n",
    "```python\n",
    "(30.5, 34.25, 27.0, 23.25)\n",
    "```"
   ]
  },
  {
   "cell_type": "markdown",
   "id": "f70e84ce-6aeb-4f78-adc6-cd9fc6b3ec35",
   "metadata": {},
   "source": [
    "## Solution:"
   ]
  },
  {
   "cell_type": "code",
   "execution_count": null,
   "id": "7d995751-5da1-4368-99cc-170e2026b0e2",
   "metadata": {},
   "outputs": [],
   "source": [
    "def average_tuple(nums):\n",
    "    result = [sum(x) / len(x) for x in zip(*nums)]\n",
    "    return tuple(result)\n",
    "\n",
    "#-----------------------------------------------\n",
    "nums = ((10, 10, 10, 12), (30, 45, 56, 45), (81, 80, 39, 32), (1, 2, 3, 4))\n",
    "print (\"input: \\n\", nums)\n",
    "print(\"\\naverage tuple of tuples: \\n\", average_tuple(nums))"
   ]
  },
  {
   "cell_type": "markdown",
   "id": "97c7f6f2-05aa-4095-9ef7-a29373a8d089",
   "metadata": {},
   "source": [
    "***"
   ]
  }
 ],
 "metadata": {
  "kernelspec": {
   "display_name": "Python 3 (ipykernel)",
   "language": "python",
   "name": "python3"
  },
  "language_info": {
   "codemirror_mode": {
    "name": "ipython",
    "version": 3
   },
   "file_extension": ".py",
   "mimetype": "text/x-python",
   "name": "python",
   "nbconvert_exporter": "python",
   "pygments_lexer": "ipython3",
   "version": "3.9.16"
  }
 },
 "nbformat": 4,
 "nbformat_minor": 5
}
