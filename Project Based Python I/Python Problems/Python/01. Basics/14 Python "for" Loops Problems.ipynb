{
 "cells": [
  {
   "cell_type": "markdown",
   "id": "7c76b394-6ec6-4567-9f32-16c177551f65",
   "metadata": {},
   "source": [
    "<img src=\"../../images/banners/python-basics.png\" width=\"600\"/>"
   ]
  },
  {
   "cell_type": "markdown",
   "id": "4246f54c-6759-49c0-9f60-f1b046b16504",
   "metadata": {},
   "source": [
    "# <img src=\"../../images/logos/python.png\" width=\"23\"/> Python \"for\" Loops Problems "
   ]
  },
  {
   "cell_type": "markdown",
   "id": "6fbd65fa-5a84-42d5-a483-4e772de4d092",
   "metadata": {},
   "source": [
    "## Problem 1"
   ]
  },
  {
   "cell_type": "markdown",
   "id": "aea38b52-79df-417e-a080-871cc23443d8",
   "metadata": {},
   "source": [
    "Write a Python program to print all even numbers from a given list of numbers in the same order and stop printing any after 237 in the sequence."
   ]
  },
  {
   "cell_type": "markdown",
   "id": "694ce177-31da-44e8-93a5-386fe3c9f1ab",
   "metadata": {},
   "source": [
    "Sample numbers list :\n",
    "\n",
    "numbers = [    \n",
    "    386, 462, 47, 418, 907, 344, 236, 375, 823, 566, 597, 978, 328, 615, 953, 345, \n",
    "    399, 162, 758, 219, 918, 237, 412, 566, 826, 248, 866, 950, 626, 949, 687, 217, \n",
    "    815, 67, 104, 58, 512, 24, 892, 894, 767, 553, 81, 379, 843, 831, 445, 742, 717, \n",
    "    958,743, 527\n",
    "    ]"
   ]
  },
  {
   "cell_type": "markdown",
   "id": "ec6791c7-671b-4d57-b5b2-de690a0bfbf1",
   "metadata": {},
   "source": [
    "output:"
   ]
  },
  {
   "cell_type": "markdown",
   "id": "3aaf66e2-2ca7-4798-8762-c357d25b1393",
   "metadata": {},
   "source": [
    "386<br/>\n",
    "462<br/>\n",
    "418<br/>\n",
    "344<br/>\n",
    "236<br/>\n",
    "566<br/>\n",
    "978<br/>\n",
    "328<br/>\n",
    "162<br/>\n",
    "758<br/>\n",
    "918<br/>\n",
    "237<br/>"
   ]
  },
  {
   "cell_type": "markdown",
   "id": "0186bc80-5794-4feb-bb3b-d9081a23bcbc",
   "metadata": {},
   "source": [
    "## Solution:"
   ]
  },
  {
   "cell_type": "code",
   "execution_count": null,
   "id": "12de5745-00f1-4f41-9a25-98f319989304",
   "metadata": {},
   "outputs": [],
   "source": [
    "numbers = [    \n",
    "    386, 462, 47, 418, 907, 344, 236, 375, 823, 566, 597, 978, 328, 615, 953, 345, \n",
    "    399, 162, 758, 219, 918, 237, 412, 566, 826, 248, 866, 950, 626, 949, 687, 217, \n",
    "    815, 67, 104, 58, 512, 24, 892, 894, 767, 553, 81, 379, 843, 831, 445, 742, 717, \n",
    "    958,743, 527\n",
    "    ]\n",
    "\n",
    "for x in numbers:\n",
    "    if x == 237:\n",
    "        print(x)\n",
    "        break\n",
    "    elif x % 2 == 0:\n",
    "        print(x)"
   ]
  },
  {
   "cell_type": "markdown",
   "id": "ee9e7e8c-4954-4b27-9d8d-395dc3f3d8fa",
   "metadata": {},
   "source": [
    "***"
   ]
  },
  {
   "cell_type": "markdown",
   "id": "f18cd4a2-c3f1-47b4-9c77-8548317b1618",
   "metadata": {},
   "source": [
    "## Problem 2"
   ]
  },
  {
   "cell_type": "markdown",
   "id": "724f4919-dc3e-4575-9725-12c86bc88f10",
   "metadata": {},
   "source": [
    "Write a Python program to find the longest common prefix string among a given list of strings. Return false if there is no common prefix."
   ]
  },
  {
   "cell_type": "markdown",
   "id": "1b8be842-b24f-40e9-96e6-ab6a3934cb74",
   "metadata": {},
   "source": [
    "For Example:<br>\n",
    "string_list = [ \"subdomain\", \"subtitle\" ] <br>\n",
    "output: prefix = sub"
   ]
  },
  {
   "cell_type": "markdown",
   "id": "06294d0b-046a-4753-b49e-8fe7f6218f8f",
   "metadata": {},
   "source": [
    "string_list = [ \"domain\", \"title\" ] <br>\n",
    "output: prefix = No prefix found!"
   ]
  },
  {
   "cell_type": "markdown",
   "id": "2a9b4e23-e28e-41e3-bd40-bc71682a0a06",
   "metadata": {},
   "source": [
    "## Solution:"
   ]
  },
  {
   "cell_type": "code",
   "execution_count": null,
   "id": "2e7031ec-413b-44c1-848f-9ec3d69c12e4",
   "metadata": {},
   "outputs": [],
   "source": [
    "string_list = [\"subdomain\",\"subtitle\"]\n",
    "\n",
    "short_string = min(string_list, key=len)\n",
    "prefix = 'No prefix Found!'\n",
    "found = False\n",
    "\n",
    "for index, char in enumerate(short_string):\n",
    "    if found:\n",
    "        break\n",
    "        \n",
    "    for other in str_list:\n",
    "\n",
    "        if other[index] != char:\n",
    "            found = True\n",
    "            if index != 0:\n",
    "                prefix = short_string[:index]\n",
    "                \n",
    "            break\n",
    "\n",
    "print('prefix = ', prefix)\n"
   ]
  },
  {
   "cell_type": "markdown",
   "id": "884bc624-dbfe-495f-b8e6-1ea735def0f4",
   "metadata": {},
   "source": [
    "***"
   ]
  },
  {
   "cell_type": "markdown",
   "id": "490b4cb8-87e9-45f5-a0b0-b03d9b089035",
   "metadata": {},
   "source": [
    "## Problem 3"
   ]
  },
  {
   "cell_type": "markdown",
   "id": "2f11a217-7e51-432e-afb6-d2ad87700f88",
   "metadata": {},
   "source": [
    "Write a Python program to rescale and shift numbers in a given list, so that they cover the range [0, 1]."
   ]
  },
  {
   "cell_type": "markdown",
   "id": "cc89de8e-d28f-4f2e-bfb1-94b479a9cf92",
   "metadata": {},
   "source": [
    "Examples:\n",
    "\n",
    "Input: [18.5, 17.0, 18.0, 19.0, 18.0] <br>\n",
    "Output: [0.75, 0.0, 0.5, 1.0, 0.5] <br>\n",
    "\n",
    "Input: [18.5, 18.5, 18.5, 18.5, 18.5] <br>\n",
    "Output: [1.0, 1.0, 1.0, 1.0, 1.0] <br>\n",
    "\n",
    "**Hint:** if all numbers are equal, display the number 1.0 for them"
   ]
  },
  {
   "cell_type": "markdown",
   "id": "3ff12212-eb64-4728-882c-4159bcfc13c0",
   "metadata": {},
   "source": [
    "## Solution:"
   ]
  },
  {
   "cell_type": "code",
   "execution_count": null,
   "id": "f25dbe9c-c88c-4e3d-b19c-fa66b4f96540",
   "metadata": {},
   "outputs": [],
   "source": [
    "def scale(nums):\n",
    "    a = min(nums)\n",
    "    b = max(nums)\n",
    "    if b - a == 0:\n",
    "        return [1.0] * len(nums)\n",
    "    \n",
    "    for i in range(len(nums)):\n",
    "        nums[i] = (nums[i] - a) / (b - a)\n",
    "    return nums\n",
    "#-------------------------------------\n",
    "nums = [18.5, 17.0, 18.0, 19.0, 18.0]\n",
    "scale(nums)"
   ]
  },
  {
   "cell_type": "markdown",
   "id": "7a2c822e-2aa0-4afa-aa1d-8f322ec5dd76",
   "metadata": {},
   "source": [
    "***"
   ]
  },
  {
   "cell_type": "markdown",
   "id": "1352ea83-8ddf-41cc-bc2c-da5bf39588c3",
   "metadata": {
    "tags": []
   },
   "source": [
    "## Problem 4"
   ]
  },
  {
   "cell_type": "markdown",
   "id": "401500ca-5b87-414c-9395-05fe4815275b",
   "metadata": {},
   "source": [
    "Write a Python program to count the number of even and odd numbers in a series of numbers."
   ]
  },
  {
   "cell_type": "markdown",
   "id": "56440d2d-ab48-4e42-951f-e5c7ed8caaf0",
   "metadata": {},
   "source": [
    "Example input:\n",
    "```python\n",
    "numbers = (1, 2, 3, 4, 5, 6, 7, 8, 9)\n",
    "```"
   ]
  },
  {
   "cell_type": "markdown",
   "id": "032f8b3c-f22e-484f-8430-3111ee89db52",
   "metadata": {},
   "source": [
    "output:\n",
    "\n",
    "Number of even numbers : 4 <br>\n",
    "Number of odd numbers : 5"
   ]
  },
  {
   "cell_type": "markdown",
   "id": "c86363dc-b097-444b-b6eb-847db210141b",
   "metadata": {},
   "source": [
    "## Solution:"
   ]
  },
  {
   "cell_type": "code",
   "execution_count": null,
   "id": "359407a3-d05c-4ca8-8abd-724a5241d13f",
   "metadata": {},
   "outputs": [],
   "source": [
    "numbers = (1, 2, 3, 4, 5, 6, 7, 8, 9)\n",
    "count_odd = 0\n",
    "count_even = 0\n",
    "for x in numbers:\n",
    "    if not x % 2:\n",
    "        count_even+=1\n",
    "    else:\n",
    "        count_odd+=1\n",
    "print(\"Number of even numbers :\",count_even)\n",
    "print(\"Number of odd numbers :\",count_odd)"
   ]
  },
  {
   "cell_type": "markdown",
   "id": "adedc60c-9b16-4eb3-ba85-6035f15953b0",
   "metadata": {
    "tags": []
   },
   "source": [
    "***"
   ]
  },
  {
   "cell_type": "markdown",
   "id": "253233f9-4e16-41c1-93f6-fb2015b59a0c",
   "metadata": {},
   "source": [
    "## Problem 5"
   ]
  },
  {
   "cell_type": "markdown",
   "id": "8875f129-40e2-4dd8-b766-e6544449c5de",
   "metadata": {},
   "source": [
    "Write a Python program to print the alphabet pattern 'Z'."
   ]
  },
  {
   "cell_type": "markdown",
   "id": "385217b2-15dd-482f-a694-a738737d2cdb",
   "metadata": {},
   "source": [
    "<img src=\"images/alphabet-z.png\" width=\"200\"/>"
   ]
  },
  {
   "cell_type": "markdown",
   "id": "e8744a68-afa5-46bb-9b50-f629affed728",
   "metadata": {},
   "source": [
    "## Solution:"
   ]
  },
  {
   "cell_type": "code",
   "execution_count": null,
   "id": "0db8f6bc-02da-44af-ad5b-7fbb40249464",
   "metadata": {},
   "outputs": [],
   "source": [
    "result_str = \"\"  \n",
    "\n",
    "for row in range(0,7):   \n",
    "    for column in range(0,7): \n",
    "        if row == 0 or row == 6 or row + column == 6 :  \n",
    "            result_str = result_str + \"*\"    \n",
    "        else:      \n",
    "            result_str = result_str + \" \" \n",
    "            \n",
    "    result_str = result_str + \"\\n\" \n",
    "    \n",
    "print(result_str)"
   ]
  },
  {
   "cell_type": "markdown",
   "id": "296f34ed-7848-4696-8f90-b113f0767667",
   "metadata": {},
   "source": [
    "***"
   ]
  },
  {
   "cell_type": "markdown",
   "id": "b9969a85-caa9-44ac-b67b-2ebef243b3e1",
   "metadata": {},
   "source": [
    "## Problem 6"
   ]
  },
  {
   "cell_type": "markdown",
   "id": "78031128-b496-4dfd-abcc-53a71ef782c6",
   "metadata": {},
   "source": [
    "Write a Python program that accepts a word from the user and reverses it."
   ]
  },
  {
   "cell_type": "markdown",
   "id": "9173029f-60fa-49f4-bfb5-05d541e187da",
   "metadata": {},
   "source": [
    "Example input: 'Python'\n",
    "\n",
    "output: nohtyP"
   ]
  },
  {
   "cell_type": "markdown",
   "id": "44725692-c6a8-44af-9795-376e7759bcd4",
   "metadata": {},
   "source": [
    "## Solution:"
   ]
  },
  {
   "cell_type": "code",
   "execution_count": null,
   "id": "8fa3f949-0cae-42a7-afbb-5388b9f56e4c",
   "metadata": {},
   "outputs": [],
   "source": [
    "word = input(\"Input a word to reverse: \")\n",
    "reverse = ''\n",
    "for char in range(len(word) - 1, -1, -1):\n",
    "    reverse += word[char]\n",
    "print('\\nreversed word: ', reverse)"
   ]
  },
  {
   "cell_type": "markdown",
   "id": "48ad411e-24af-418a-8449-a983099a62f2",
   "metadata": {},
   "source": [
    "***"
   ]
  }
 ],
 "metadata": {
  "kernelspec": {
   "display_name": "Python 3 (ipykernel)",
   "language": "python",
   "name": "python3"
  },
  "language_info": {
   "codemirror_mode": {
    "name": "ipython",
    "version": 3
   },
   "file_extension": ".py",
   "mimetype": "text/x-python",
   "name": "python",
   "nbconvert_exporter": "python",
   "pygments_lexer": "ipython3",
   "version": "3.9.16"
  }
 },
 "nbformat": 4,
 "nbformat_minor": 5
}
