{
 "cells": [
  {
   "cell_type": "markdown",
   "id": "7c7bd1e1-0531-4b09-b67b-3780ea9cf2d0",
   "metadata": {},
   "source": [
    "<img src=\"../../images/banners/python-basics.png\" width=\"600\"/>"
   ]
  },
  {
   "cell_type": "markdown",
   "id": "08bf500d-e3c3-4915-ab53-37e6fc0deafb",
   "metadata": {},
   "source": [
    "# <img src=\"../../images/logos/python.png\" width=\"23\"/> Defining Your Own Python Function, Part #2 Problems"
   ]
  },
  {
   "cell_type": "markdown",
   "id": "35b700c7-4467-4260-a142-9f7d3f68ee73",
   "metadata": {},
   "source": [
    "## Problem 1"
   ]
  },
  {
   "cell_type": "markdown",
   "id": "980e0311-dd27-4b29-ab09-90eb6ea57a98",
   "metadata": {},
   "source": [
    "Write a Python program to find strings in a given list that:\n",
    "- starting with a given prefix\n",
    "- containing a given substring\n",
    "- ending with a given suffix\n",
    "\n",
    "<br>\n",
    "<b> Hint: </b> use function with keyword arguments"
   ]
  },
  {
   "cell_type": "markdown",
   "id": "7a9517ae-6346-4d3b-95ba-944f8dc3175b",
   "metadata": {},
   "source": [
    "<b> Examples: </b>"
   ]
  },
  {
   "cell_type": "markdown",
   "id": "0dd72f79-6502-4190-b921-15b30eed571b",
   "metadata": {},
   "source": [
    "prefix = 'ca' <br>\n",
    "word_list = ['cat', 'car', 'fear', 'center'] <br>\n",
    "output = ['cat', 'car']"
   ]
  },
  {
   "cell_type": "markdown",
   "id": "938643b9-beb6-466c-aa5b-640afa9abe6c",
   "metadata": {},
   "source": [
    "substring = 'do' <br>\n",
    "word_list = ['pen', 'google docs', 'shatter', 'donut', 'at', 'todo'] <br>\n",
    "output = ['google docs', 'donut', 'todo']"
   ]
  },
  {
   "cell_type": "markdown",
   "id": "95b92f49-1846-424f-83fc-e33968f30c1f",
   "metadata": {},
   "source": [
    "sufix = 'ing' <br>\n",
    "word_list = ['played', 'reading', 'help', 'drawing', 'spoken'] <br>\n",
    "output = ['reading', 'drawing' ]"
   ]
  },
  {
   "cell_type": "markdown",
   "id": "ebeb5418-567c-4120-a388-33128136a197",
   "metadata": {},
   "source": [
    "## Solution"
   ]
  },
  {
   "cell_type": "code",
   "execution_count": null,
   "id": "452a9695-8ec9-481e-9ea4-df8f110ae2e3",
   "metadata": {},
   "outputs": [],
   "source": [
    "def process(word_list,*, prefix='', substring='', sufix=''):\n",
    "    if prefix:\n",
    "        return [s for s in word_list if s.startswith(prefix)]\n",
    "    \n",
    "    elif substring:\n",
    "        return [s for s in word_list if substring in s]\n",
    "    \n",
    "    elif sufix:\n",
    "        return [s for s in word_list if s.endswith(sufix)]"
   ]
  },
  {
   "cell_type": "code",
   "execution_count": null,
   "id": "82c1f98f-746e-4669-9cfc-195476ffd0c4",
   "metadata": {},
   "outputs": [],
   "source": [
    "process(['cat', 'car', 'fear', 'center'], prefix='ca')\n",
    "process(['pen', 'google docs', 'shatter', 'donut', 'at', 'todo'], substring='do')\n",
    "process(['played', 'reading', 'help', 'drawing', 'spoken'], sufix='ing')"
   ]
  },
  {
   "cell_type": "markdown",
   "id": "4f9035f5-1266-4ae8-8259-5cb4044dec42",
   "metadata": {},
   "source": [
    "***"
   ]
  }
 ],
 "metadata": {
  "kernelspec": {
   "display_name": "Python 3 (ipykernel)",
   "language": "python",
   "name": "python3"
  },
  "language_info": {
   "codemirror_mode": {
    "name": "ipython",
    "version": 3
   },
   "file_extension": ".py",
   "mimetype": "text/x-python",
   "name": "python",
   "nbconvert_exporter": "python",
   "pygments_lexer": "ipython3",
   "version": "3.9.16"
  }
 },
 "nbformat": 4,
 "nbformat_minor": 5
}
