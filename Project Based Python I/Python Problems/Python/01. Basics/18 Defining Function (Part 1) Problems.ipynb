{
 "cells": [
  {
   "cell_type": "markdown",
   "id": "d9275969-4934-412d-b0e0-b0e3cc181547",
   "metadata": {},
   "source": [
    "<img src=\"../../images/banners/python-basics.png\" width=\"600\"/>"
   ]
  },
  {
   "cell_type": "markdown",
   "id": "479fb2a6-b470-47b5-9be1-8318d9348912",
   "metadata": {},
   "source": [
    "# <img src=\"../../images/logos/python.png\" width=\"23\"/> Defining Your Own Python Function (Part 1) Problems\n"
   ]
  },
  {
   "cell_type": "markdown",
   "id": "4725b6ef-566b-4e00-822c-cf76bc0f9bc2",
   "metadata": {},
   "source": [
    "## Problem 1"
   ]
  },
  {
   "cell_type": "markdown",
   "id": "1e0bb684-140a-4241-bfe5-e3e167190fa7",
   "metadata": {},
   "source": [
    "Write a Python program takes two positive integers and calculates:\n",
    "- Greatest Common Divisor (GCD)\n",
    "- Least Common Multiple (LCM)"
   ]
  },
  {
   "cell_type": "markdown",
   "id": "0cb16952-ab29-4967-b756-38931d268986",
   "metadata": {},
   "source": [
    "Example:"
   ]
  },
  {
   "cell_type": "markdown",
   "id": "bc8d50bd-b00d-493e-aad3-a62dfd1c5cd9",
   "metadata": {},
   "source": [
    "input:\n",
    "```python\n",
    "a = 10\n",
    "b = 15\n",
    "```\n",
    "output:\n",
    "```python\n",
    ">>> gcd(a, b)\n",
    "5\n",
    ">>> lcm(a, b)\n",
    "30\n",
    "```"
   ]
  },
  {
   "cell_type": "markdown",
   "id": "f46f41d2-0e75-4a8f-8aaa-b6ffdb7d5ab5",
   "metadata": {},
   "source": [
    "<b>Hint:</b> for more infomation about GCD and LCM reach the internet."
   ]
  },
  {
   "cell_type": "markdown",
   "id": "5ebfbae9-c2f0-4bc0-ae33-07c829ec0919",
   "metadata": {},
   "source": [
    "## Solution:"
   ]
  },
  {
   "cell_type": "code",
   "execution_count": null,
   "id": "668c1194-19d1-4c79-93c9-2c10ecdc33c7",
   "metadata": {},
   "outputs": [],
   "source": [
    "def gcd(a, b):\n",
    "    while b:\n",
    "        a, b = b, a % b\n",
    "    return a\n",
    "\n",
    "def lcm(a, b):\n",
    "    return a*b // gcd(a, b)\n",
    "\n",
    "#--------------------------------------\n",
    "a = int(input('Enter first integer :'))\n",
    "b = int(input('Enter second integer: '))\n",
    "print(f\"GCD = {gcd(a, b)}\")\n",
    "print(f\"LCM = {lcm(a, b)}\")"
   ]
  },
  {
   "cell_type": "markdown",
   "id": "6a988316-4a90-412f-b3f9-b07ecc6f2d89",
   "metadata": {},
   "source": [
    "***"
   ]
  },
  {
   "cell_type": "markdown",
   "id": "bacb9abc-fcae-4118-9551-7de1016277f9",
   "metadata": {},
   "source": [
    "## Problem 2"
   ]
  },
  {
   "cell_type": "markdown",
   "id": "4c55ae16-4a0b-45b1-b15f-bc755023f5d9",
   "metadata": {},
   "source": [
    "Write a Python program to find the closest palindrome number to a given integer. If there are two palindrome numbers in absolute distance return the smaller number."
   ]
  },
  {
   "cell_type": "markdown",
   "id": "66d9f118-1b23-487e-8233-abe38c0dcaab",
   "metadata": {},
   "source": [
    "A <b>palindrome number</b> is a number that remains the same when its digits are reversed."
   ]
  },
  {
   "cell_type": "markdown",
   "id": "5b978608-1a98-493e-bd07-298262543547",
   "metadata": {},
   "source": [
    "Example:"
   ]
  },
  {
   "cell_type": "markdown",
   "id": "0e72feae-bc3b-4c9c-87d1-129f598ad253",
   "metadata": {},
   "source": [
    "```python\n",
    ">>> n = 321\n",
    ">>> palindrome(n)\n",
    "323\n",
    "```"
   ]
  },
  {
   "cell_type": "markdown",
   "id": "8427434a-388f-46f1-83a5-6637c82310fa",
   "metadata": {},
   "source": [
    "## Solution"
   ]
  },
  {
   "cell_type": "code",
   "execution_count": null,
   "id": "0eca9eed-2ff4-4554-ae41-783704bd3494",
   "metadata": {},
   "outputs": [],
   "source": [
    "def palindrome(n):\n",
    "    x = n\n",
    "    y = n\n",
    "    while True:\n",
    "        if str(x) == str(x)[::-1]:\n",
    "            return x\n",
    "        x -=  1\n",
    "        if str(y) == str(y)[::-1]:\n",
    "            return y\n",
    "        y += 1\n",
    "#----------------------------------------\n",
    "n = int(input('Enter an integer: '))\n",
    "print(\"Closest Palindrome number = \",palindrome(n));"
   ]
  },
  {
   "cell_type": "markdown",
   "id": "54cfb5a2-2ca0-49a7-ab88-4003048cc4d2",
   "metadata": {},
   "source": [
    "***"
   ]
  },
  {
   "cell_type": "markdown",
   "id": "31f95729-d6b4-44a1-b7f6-dc49ce6f42a9",
   "metadata": {},
   "source": [
    "## Problem 3"
   ]
  },
  {
   "cell_type": "markdown",
   "id": "d9d60f49-9299-42dc-98e4-d289043100b2",
   "metadata": {},
   "source": [
    "Write a Python program to find the largest and smallest digits of a given number."
   ]
  },
  {
   "cell_type": "markdown",
   "id": "c529d373-fc4a-4c76-92c1-e5a6ec59110b",
   "metadata": {},
   "source": [
    "input: 54786452"
   ]
  },
  {
   "cell_type": "markdown",
   "id": "9e67f9e5-3706-476e-bc52-8c5de0dda560",
   "metadata": {},
   "source": [
    "output: <br>\n",
    "smallest digit = 2 <br>\n",
    "largest digit = 8"
   ]
  },
  {
   "cell_type": "markdown",
   "id": "536f95f9-48e2-4d69-bb6b-bfda5a547b11",
   "metadata": {},
   "source": [
    "## Solution: (first solution)"
   ]
  },
  {
   "cell_type": "code",
   "execution_count": null,
   "id": "78655615-d754-4165-bda5-e88c4e9909d1",
   "metadata": {},
   "outputs": [],
   "source": [
    "def Largest_Smallest_digit(n):\n",
    "    largest_digit = 0\n",
    "    smallest_digit = 9\n",
    "    while (n):\n",
    "        digit = n % 10\n",
    "        print(digit)\n",
    "        # largest digit\n",
    "        largest_digit = max(digit, largest_digit)\n",
    "        # smallest digit\n",
    "        smallest_digit = min(digit, smallest_digit)\n",
    "        n = n // 10\n",
    "    return smallest_digit, largest_digit\n",
    "#----------------------------------------\n",
    "n = int(input('Enter an interger: '))\n",
    "result = Largest_Smallest_digit(n)\n",
    "print(\"Smallest Digit = \", result[0])\n",
    "print(\"Largest Digit = \", result[1])"
   ]
  },
  {
   "cell_type": "markdown",
   "id": "0145d3c6-97ff-41e4-af6f-47b0653eeeb8",
   "metadata": {},
   "source": [
    "## Solution: (second solution)"
   ]
  },
  {
   "cell_type": "code",
   "execution_count": null,
   "id": "261a6266-67b8-4a9d-b45d-f3013bdc4123",
   "metadata": {},
   "outputs": [],
   "source": [
    "n = input('Enter an interger: ') # n is string\n",
    "n = [digit for digit in n]\n",
    "print(\"Smallest Digit = \", min(n))\n",
    "print(\"Largest Digit = \", max(n))"
   ]
  },
  {
   "cell_type": "markdown",
   "id": "64f462b1-8ca1-4713-b61c-e94179891ce3",
   "metadata": {},
   "source": [
    "***"
   ]
  },
  {
   "cell_type": "markdown",
   "id": "34d99614-7cba-4276-b62a-c0a638fd66b9",
   "metadata": {},
   "source": [
    "## Problem 4"
   ]
  },
  {
   "cell_type": "markdown",
   "id": "8a1f4617-1a17-4dd8-9e94-c7ee5298ca9a",
   "metadata": {},
   "source": [
    "Write a Python function that finds all the permutations of the digits given by a list."
   ]
  },
  {
   "cell_type": "markdown",
   "id": "69eb3867-720c-4423-a197-98260651b086",
   "metadata": {},
   "source": [
    "Example:\n",
    "```python\n",
    ">>> nums = [3, 7, 6]\n",
    ">>> permutations(nums)\n",
    "[ [3, 7, 6], [3, 6, 7], [7, 3, 6], [7, 6, 3], [6, 3, 7], [6, 7, 3] ]\n",
    "```"
   ]
  },
  {
   "cell_type": "code",
   "execution_count": null,
   "id": "bafccd7f-5fc8-47de-a7ba-5e7bd3212fc1",
   "metadata": {},
   "outputs": [],
   "source": [
    "def permutations(nums):\n",
    "    if len(nums) == 0:\n",
    "        return []\n",
    "    \n",
    "    if len(nums) == 1:\n",
    "        return [nums]\n",
    "    \n",
    "    result = []\n",
    "    for i in range(len(nums)):\n",
    "        m = nums[i]\n",
    "        rem_list = nums[:i] + nums[i+1:]\n",
    "        for p in permutations(rem_list):\n",
    "            result.append([m] + p)\n",
    "            \n",
    "    return result\n",
    "#-------------------------------------\n",
    "nums = [3, 7, 6]\n",
    "permutations(nums)"
   ]
  },
  {
   "cell_type": "markdown",
   "id": "ef077731-fe3d-436d-b3af-622a145fd632",
   "metadata": {},
   "source": [
    "***"
   ]
  },
  {
   "cell_type": "markdown",
   "id": "d4bb4684-242e-4483-94c5-05c2900931d4",
   "metadata": {},
   "source": [
    "## Problem 5"
   ]
  },
  {
   "cell_type": "markdown",
   "id": "ca2c820c-4236-495d-a790-9a48384bd031",
   "metadata": {},
   "source": [
    "Write a **lambda** function that calculates the square of a number if the number is greater than zero and less than 10. Otherwise, show twice the number.  \n",
    "Example:\n",
    "```python\n",
    "print('x = 5  --> ',func(5))\n",
    "print('x = 11 --> ',func(11))\n",
    "```\n",
    "output:  \n",
    "x = 5  -->  25  \n",
    "x = 11 -->  22"
   ]
  },
  {
   "cell_type": "markdown",
   "id": "2b5c48a2-f640-4854-9d29-be05cd755a6f",
   "metadata": {},
   "source": [
    "## Solution"
   ]
  },
  {
   "cell_type": "code",
   "execution_count": null,
   "id": "a8229be5-c415-48a6-9153-34f76da58680",
   "metadata": {},
   "outputs": [],
   "source": [
    "func = lambda x: x*x if 0 < x < 10 else 2*x\n",
    "#--------------------------------------\n",
    "print('x = 5  --> ',func(5))\n",
    "print('x = 11 --> ', func(11))"
   ]
  },
  {
   "cell_type": "markdown",
   "id": "6e639a07-e623-4ae8-89b2-9e56edb0f7a1",
   "metadata": {},
   "source": [
    "---"
   ]
  }
 ],
 "metadata": {
  "kernelspec": {
   "display_name": "Python 3 (ipykernel)",
   "language": "python",
   "name": "python3"
  },
  "language_info": {
   "codemirror_mode": {
    "name": "ipython",
    "version": 3
   },
   "file_extension": ".py",
   "mimetype": "text/x-python",
   "name": "python",
   "nbconvert_exporter": "python",
   "pygments_lexer": "ipython3",
   "version": "3.9.16"
  }
 },
 "nbformat": 4,
 "nbformat_minor": 5
}
