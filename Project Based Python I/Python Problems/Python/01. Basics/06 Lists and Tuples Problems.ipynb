{
 "cells": [
  {
   "cell_type": "markdown",
   "id": "e0962c2a-11b9-4e9f-bd97-a20e7b198e22",
   "metadata": {},
   "source": [
    "<img src=\"../../images/banners/python-basics.png\" width=\"600\"/>"
   ]
  },
  {
   "cell_type": "markdown",
   "id": "852eb7ad-365a-4e2e-a4bd-050272dd5949",
   "metadata": {},
   "source": [
    "# <img src=\"../../images/logos/python.png\" width=\"23\"/> Lists and Tuples in Python Problems"
   ]
  },
  {
   "cell_type": "markdown",
   "id": "5f57e666-1218-4388-b575-540956719a75",
   "metadata": {},
   "source": [
    "# Problem 1"
   ]
  },
  {
   "cell_type": "markdown",
   "id": "3c98d988-5e59-4a12-bef7-e4e730a6b953",
   "metadata": {},
   "source": [
    "Write a Python program takes a list of integer numbers to do the following in sequence:\n",
    "1. find the k largest numbers. Length of the list has to be greater than k.\n",
    "2. sort the numbers by the sum of their digits."
   ]
  },
  {
   "cell_type": "markdown",
   "id": "5e3ab487-ee99-464e-87b0-7041c242389a",
   "metadata": {},
   "source": [
    "For example:\n",
    "\n",
    "k = 4 <br>\n",
    "input: num_list = [170, 18, 115, 15, 256, 12, 1, 19] <br>\n",
    "output: [115, 170, 19, 256]"
   ]
  },
  {
   "cell_type": "markdown",
   "id": "fa780072-bc0b-4802-b1b4-515e34f0451c",
   "metadata": {},
   "source": [
    "## Solution:"
   ]
  },
  {
   "cell_type": "code",
   "execution_count": null,
   "id": "a8ac085b-0bed-4e32-ad16-749ebc5f98b3",
   "metadata": {},
   "outputs": [],
   "source": [
    "k = 4\n",
    "num_list = [170, 18, 115, 15, 256, 12, 1, 19]\n",
    "num_list = sorted(num_list, reverse=True)[:k]\n",
    "sorted(num_list, key=lambda num: sum(int(digit) for digit in str(num)))"
   ]
  },
  {
   "cell_type": "markdown",
   "id": "86418082-06ac-490f-88dc-ec287f03a51a",
   "metadata": {},
   "source": [
    "***"
   ]
  },
  {
   "cell_type": "markdown",
   "id": "6d46d422-73c7-4c5f-a32f-a3711ec83648",
   "metadata": {},
   "source": [
    "## Problem 2"
   ]
  },
  {
   "cell_type": "markdown",
   "id": "f64cbc0f-2875-47fb-be08-c42f946b68cd",
   "metadata": {},
   "source": [
    "You know that tuples are immutable, so you can not add new elements. By using merge of tuples with the + operator you can add an element and create a new tuple or you can override the original tuple."
   ]
  },
  {
   "cell_type": "markdown",
   "id": "4ef9c271-be00-4538-ad18-425cecbe51a7",
   "metadata": {},
   "source": [
    "We have a tuple nums = (1, 2, 3, 4, 5, 6, 7, 8, 9) <br>\n",
    "Write a Python program to:\n",
    "1. add an item 2500 to end of the tuple.\n",
    "2. add (100, 200, 300) at index 3 of tuple.\n",
    "3. remove item 5 from the tuple."
   ]
  },
  {
   "cell_type": "markdown",
   "id": "246073a0-523a-4943-9db6-f07a735c8adb",
   "metadata": {},
   "source": [
    "output:\n",
    "1. add an item 2500 to end of tuple:<br> \n",
    "(1, 2, 3, 4, 5, 6, 7, 8, 9, 2500)\n",
    "\n",
    "2. add (100, 200, 300) at index 3 of tuple: <br>\n",
    "(1, 2, 3, 100, 200, 300, 4, 5, 6, 7, 8, 9)\n",
    "\n",
    "3. remove item 5 from the tuple: <br>\n",
    "(1, 2, 3, 4, 6, 7, 8, 9)"
   ]
  },
  {
   "cell_type": "markdown",
   "id": "1c0db3d5-07de-4a8a-8f19-a5af5069e798",
   "metadata": {},
   "source": [
    "## Solution:"
   ]
  },
  {
   "cell_type": "code",
   "execution_count": null,
   "id": "3ce5cb16-df79-49ae-a744-06fa35c276e7",
   "metadata": {},
   "outputs": [],
   "source": [
    "nums = (1, 2, 3, 4, 5, 6, 7, 8, 9)\n",
    "print('original tuple: ')\n",
    "print(nums)\n",
    "\n",
    "#----------------------------------\n",
    "new_nums1 = nums + (2500, )\n",
    "print('\\n1. add 2500 to end of tuple: ')\n",
    "print(new_nums1)\n",
    "\n",
    "#-------------------------------------------\n",
    "new_nums2 = nums[:3] + (100, 200, 300) + nums[3:]\n",
    "print('\\n2. add (100, 200, 300) at index 3 of tuple: ')\n",
    "print(new_nums2)\n",
    "\n",
    "#----------------------------------------------\n",
    "new_nums3 = nums[:4] + nums[5:]\n",
    "print('\\n3. remove item 5 from the tuple: ')\n",
    "print(new_nums3)"
   ]
  },
  {
   "cell_type": "markdown",
   "id": "12d5b3cd-7166-42f9-a1ff-b2435fb0a2ae",
   "metadata": {},
   "source": [
    "***"
   ]
  },
  {
   "cell_type": "markdown",
   "id": "74067920-f93e-4c90-9b55-bf033f990adb",
   "metadata": {},
   "source": [
    "## Problem 3"
   ]
  },
  {
   "cell_type": "markdown",
   "id": "9235a848-d361-475b-8e6b-9de48768fe42",
   "metadata": {},
   "source": [
    "We have a list of tuples:\n",
    "```python\n",
    "price = [('item1', '12.20'), ('item2', '15.10'), ('item3', '24.5')]\n",
    "```\n",
    "Write a Python program to:\n",
    "1. sort the list in descending order by float element of its tuples.\n",
    "2. convert the sorted list to a dictionary so that its keys are the first tuple element and its values are the float of second element."
   ]
  },
  {
   "cell_type": "markdown",
   "id": "f5c50815-4546-4a45-973a-2a8623ac361d",
   "metadata": {},
   "source": [
    "output:\n",
    "1. sorted price: <br>\n",
    "[('item3', '24.5'), ('item2', '15.10'), ('item1', '12.20')]\n",
    "\n",
    "2. dictionary of sorted price: <br>\n",
    "{'item3': 24.5, 'item2': 15.1, 'item1': 12.2}"
   ]
  },
  {
   "cell_type": "markdown",
   "id": "300dd51c-fd90-44fc-8a25-f6984503a2d5",
   "metadata": {},
   "source": [
    "## Solution"
   ]
  },
  {
   "cell_type": "code",
   "execution_count": null,
   "id": "d7e5f8c2-8ff2-4cca-82d6-ff58a2daf0b0",
   "metadata": {},
   "outputs": [],
   "source": [
    "price = [('item1', '12.20'), ('item2', '15.10'), ('item3', '24.5')]\n",
    "\n",
    "#---------------------------------------------------------\n",
    "sorted_price = sorted(price, key=lambda x: float(x[1]), reverse=True)\n",
    "print('\\n1. sorted price: ')\n",
    "print(sorted_price)\n",
    "\n",
    "#---------------------------------------------------------\n",
    "dict_price = {key: float(value) for key, value in sorted_price}\n",
    "print('\\n2. dictionary of sorted price:')\n",
    "print(dict_price)"
   ]
  },
  {
   "cell_type": "markdown",
   "id": "873f595f-1515-4dc5-8d30-a7c92e2a3b07",
   "metadata": {},
   "source": [
    "***"
   ]
  },
  {
   "cell_type": "markdown",
   "id": "7e98bd06-645b-4f7a-99b6-6adbf73cf154",
   "metadata": {},
   "source": [
    "## Problem 4"
   ]
  },
  {
   "cell_type": "markdown",
   "id": "47944384-7c01-4654-ab23-c284f61c2570",
   "metadata": {},
   "source": [
    "Write a Python program to compute the element-wise sum of given tuples."
   ]
  },
  {
   "cell_type": "markdown",
   "id": "879f965d-f810-4997-ae90-3aa6faef84fd",
   "metadata": {},
   "source": [
    "Example input:\n",
    "```python\n",
    "x = (1,2,3,4)\n",
    "y = (3,5,2,1)\n",
    "z = (2,2,3,1)\n",
    "```"
   ]
  },
  {
   "cell_type": "markdown",
   "id": "0bd9b277-1845-484d-b7a5-2ea15fd15e8a",
   "metadata": {},
   "source": [
    "output:\n",
    "```python\n",
    "(6, 9, 8, 6)\n",
    "```"
   ]
  },
  {
   "cell_type": "markdown",
   "id": "fc98e7ba-e577-46e4-aac4-1603632e99d1",
   "metadata": {},
   "source": [
    "## Solution:"
   ]
  },
  {
   "cell_type": "code",
   "execution_count": null,
   "id": "17ab3b08-c68d-4264-89cb-d4e0eec393f6",
   "metadata": {},
   "outputs": [],
   "source": [
    "x = (1,2,3,4)\n",
    "y = (3,5,2,1)\n",
    "z = (2,2,3,1)\n",
    "print(\"input:\")\n",
    "print(x)\n",
    "print(y)\n",
    "print(z)\n",
    "print(\"\\nelement-wise sum:\")\n",
    "result = tuple(map(sum, zip(x, y, z)))\n",
    "print(result)"
   ]
  },
  {
   "cell_type": "markdown",
   "id": "3728a3a3-565f-468e-911e-7f12a253388a",
   "metadata": {},
   "source": [
    "***"
   ]
  }
 ],
 "metadata": {
  "kernelspec": {
   "display_name": "Python 3 (ipykernel)",
   "language": "python",
   "name": "python3"
  },
  "language_info": {
   "codemirror_mode": {
    "name": "ipython",
    "version": 3
   },
   "file_extension": ".py",
   "mimetype": "text/x-python",
   "name": "python",
   "nbconvert_exporter": "python",
   "pygments_lexer": "ipython3",
   "version": "3.9.16"
  }
 },
 "nbformat": 4,
 "nbformat_minor": 5
}
