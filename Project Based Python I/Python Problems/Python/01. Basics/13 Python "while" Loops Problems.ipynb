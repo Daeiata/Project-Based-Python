{
 "cells": [
  {
   "cell_type": "markdown",
   "id": "3c7cf762-d74a-4a5a-b47d-fded3fe17e38",
   "metadata": {},
   "source": [
    "<img src=\"../../images/banners/python-basics.png\" width=\"600\"/>"
   ]
  },
  {
   "cell_type": "markdown",
   "id": "4976f1a4-a0b5-47ec-a5db-684a3aa2b4bd",
   "metadata": {},
   "source": [
    "# <img src=\"../../images/logos/python.png\" width=\"23\"/> Python \"while\" Loops Problems "
   ]
  },
  {
   "cell_type": "markdown",
   "id": "096fa261-9c8b-4b3f-bb81-764c617bf929",
   "metadata": {},
   "source": [
    "## Problem 1"
   ]
  },
  {
   "cell_type": "markdown",
   "id": "d30acd3d-ad98-4880-aa0b-6fb8716821ab",
   "metadata": {},
   "source": [
    "Write a Python function to reverse a list at a specific location.\n",
    "\n",
    "User specifies the **start-index** and **end-index**"
   ]
  },
  {
   "cell_type": "markdown",
   "id": "0b7bcb4e-e78c-4810-8259-0d01ed90aa3d",
   "metadata": {},
   "source": [
    "Example:\n",
    "\n",
    "start_pos = 2 <br>\n",
    "end_pos = 4 <br>\n",
    "input: [10, 20, 30, 40, 50, 60, 70, 80] <br>\n",
    "output: [10, 20, 50, 40, 30, 60, 70, 80]"
   ]
  },
  {
   "cell_type": "markdown",
   "id": "39bc274f-462c-4a28-9908-b7d8ab6ac341",
   "metadata": {},
   "source": [
    "## Solution:"
   ]
  },
  {
   "cell_type": "code",
   "execution_count": null,
   "id": "89f3b0b8-96e7-43f4-b4f2-760eb2944216",
   "metadata": {},
   "outputs": [],
   "source": [
    "def reverse_list_in_location(lst, start_pos, end_pos):\n",
    "    while start_pos < end_pos:\n",
    "        lst[start_pos], lst[end_pos] = lst[end_pos], lst[start_pos]\n",
    "        start_pos += 1\n",
    "        end_pos -= 1\n",
    "    return lst\n",
    "\n",
    "#-----------------------------------------------------\n",
    "nums = [10,20,30,40,50,60,70,80]\n",
    "start_pos = 2\n",
    "end_pos = 4\n",
    "print(\"Original list:\")\n",
    "print(nums)\n",
    "print(f\"Reverse elements between index position {start_pos} and {end_pos}\")\n",
    "print(reverse_list_in_location(nums,start_pos,end_pos))"
   ]
  },
  {
   "cell_type": "markdown",
   "id": "1c41a87b-89ba-497d-8ca7-b1bfca271303",
   "metadata": {},
   "source": [
    "***"
   ]
  },
  {
   "cell_type": "markdown",
   "id": "918df96d-bd68-4f6d-adb0-0e548d41fa3c",
   "metadata": {
    "tags": []
   },
   "source": [
    "## Problem 2"
   ]
  },
  {
   "cell_type": "markdown",
   "id": "0f461c07-15a2-49af-a557-f60d0056a194",
   "metadata": {},
   "source": [
    "Write a Python program to convert temperature from Celsius to Fahrenheit and vice versa.\n",
    "\n",
    "Input the temperature must have unit F or C (e.g. 45F or 102C)\n",
    "\n",
    "Your program should continue until the user enters q.\n",
    "\n",
    "Expected Output :\n",
    "```python\n",
    "60°C is 140 in Fahrenheit\n",
    "\n",
    "45°F is 7 in Celsius\n",
    "```"
   ]
  },
  {
   "cell_type": "markdown",
   "id": "f1d9f768-f8c0-4411-bc66-145116359439",
   "metadata": {},
   "source": [
    "## Solution:"
   ]
  },
  {
   "cell_type": "code",
   "execution_count": null,
   "id": "8aeac13f-cec5-4cde-b3c0-042dc0e19cd2",
   "metadata": {},
   "outputs": [],
   "source": [
    "while True:\n",
    "    \n",
    "    temp = input(\"Input the  temperature you like to convert? (e.g. 45F, 102C): \")\n",
    "    convention = temp[-1]\n",
    "    \n",
    "    try:\n",
    "        degree = int(temp[:-1])\n",
    "    except ValueError:\n",
    "        print(\"Invalid input. try again...\")\n",
    "        continue\n",
    "    \n",
    "    \n",
    "    if convention.upper() == \"C\":\n",
    "        result = int(round((9 * degree) / 5 + 32))\n",
    "        print(f\"The temperature {temp} is equal to {result} Farenhiet\")\n",
    "\n",
    "    elif convention.upper() == \"F\":\n",
    "        result = int(round((degree - 32) * 5 / 9))\n",
    "        print(f\"The temperature {temp} is equal to {result} Celsius\")\n",
    "    else:\n",
    "        print(\"Invalid input. try again...\")\n",
    "        continue\n",
    "    \n",
    "    ans = input('Continue? Enter (y/n): ')\n",
    "    if ans[0].lower() == 'n':\n",
    "        print('Bye!')\n",
    "        break\n",
    "     "
   ]
  },
  {
   "cell_type": "markdown",
   "id": "f7935b75-7fc3-4f1d-a578-b92c5786db9b",
   "metadata": {
    "tags": []
   },
   "source": [
    "***"
   ]
  }
 ],
 "metadata": {
  "kernelspec": {
   "display_name": "Python 3 (ipykernel)",
   "language": "python",
   "name": "python3"
  },
  "language_info": {
   "codemirror_mode": {
    "name": "ipython",
    "version": 3
   },
   "file_extension": ".py",
   "mimetype": "text/x-python",
   "name": "python",
   "nbconvert_exporter": "python",
   "pygments_lexer": "ipython3",
   "version": "3.9.16"
  }
 },
 "nbformat": 4,
 "nbformat_minor": 5
}
