{
 "cells": [
  {
   "cell_type": "markdown",
   "id": "9e45eb4a-becd-4463-ab33-5c440f7d67ce",
   "metadata": {},
   "source": [
    "<img src=\"../../images/banners/python-oop.png\" width=\"600\"/>"
   ]
  },
  {
   "cell_type": "markdown",
   "id": "6fbc789c-1527-4be6-a81a-2b434e93bccb",
   "metadata": {},
   "source": [
    "# <img src=\"../../images/logos/python.png\" width=\"23\"/> Composition Problems"
   ]
  },
  {
   "cell_type": "markdown",
   "id": "3f835350-e395-4624-ac79-7bef8d22a6f5",
   "metadata": {},
   "source": [
    "## Problem 1"
   ]
  },
  {
   "cell_type": "markdown",
   "id": "c2cdc7b3-2afb-4119-bf83-497d58f5d9af",
   "metadata": {},
   "source": [
    "Create a class named **WriteFile** that takes two arguments. First argument is a file path and second one is a formatter class. WriteFile has `write()` method to write input text into the file."
   ]
  },
  {
   "cell_type": "markdown",
   "id": "bdd4b448-5974-414a-9c90-18bbb81ce8a1",
   "metadata": {},
   "source": [
    "Formatter is a class with `reformat()` method that do the following rules:\n",
    "\n",
    "- **LogFormatter:** reformats input text to a date and message:<br>\n",
    "2023-01-21 18:35 this is a log message\n",
    "- **CSVFormatter:** reformats input list to values separated by a delimeter:<br>\n",
    "a,b,c,d"
   ]
  },
  {
   "cell_type": "markdown",
   "id": "2ed587ad-5793-47d4-a4bc-005d117347b0",
   "metadata": {},
   "source": [
    "**Hint:** you need to `import datetime` "
   ]
  },
  {
   "cell_type": "markdown",
   "id": "748ec341-694b-40df-9d5a-6cf4aa81ef10",
   "metadata": {},
   "source": [
    "Example:"
   ]
  },
  {
   "cell_type": "markdown",
   "id": "e62a20bb-7a03-4e61-a5aa-03ee02277b5b",
   "metadata": {},
   "source": [
    "```python\n",
    "writelog = WriteFile('log.txt', LogFormatter)\n",
    "writelog.write('this is a log message')\n",
    "writelog.close()\n",
    "\n",
    "writecsv = WriteFile('data.csv', CSVFormatter)\n",
    "writecsv.write(['a', 'b', 'c', 'd'])\n",
    "writecsv.close()\n",
    "```"
   ]
  },
  {
   "cell_type": "markdown",
   "id": "3efe0f20-a232-49d3-9f12-948427e58f57",
   "metadata": {},
   "source": [
    "# Solution:"
   ]
  },
  {
   "cell_type": "code",
   "execution_count": null,
   "id": "5732ab6a-7965-4103-8356-d12fd4e017b2",
   "metadata": {},
   "outputs": [],
   "source": [
    "from datetime import datetime\n",
    "# write to file class\n",
    "class WriteFile:\n",
    "    \n",
    "    def __init__(self, filename, formatter):\n",
    "        self.fh = open(filename, 'a')\n",
    "        self.formatter = formatter\n",
    "        \n",
    "    def write(self, text):\n",
    "        self.fh.write(self.formatter().reformat(text) + '\\n')\n",
    "        \n",
    "    def close(self, ):\n",
    "        self.fh.close()\n",
    "        \n",
    "# classes that make desire format        \n",
    "class CSVFormatter:\n",
    "       \n",
    "    def reformat(self, one_list):\n",
    "        return ','.join(one_list)\n",
    "    \n",
    "class LogFormatter:\n",
    "    \n",
    "    def reformat(self, one_line):\n",
    "        dt = datetime.now().strftime('%Y-%m-%d %H:%M')\n",
    "        return dt + '\\t' + one_line\n",
    "    \n",
    "#-----------------------------------------\n",
    "writelog = WriteFile('log.txt', LogFormatter)\n",
    "writelog.write('this is a log message')\n",
    "writelog.write('this is another log message')\n",
    "writelog.close()\n",
    "\n",
    "writecsv = WriteFile('data.csv', CSVFormatter)\n",
    "writecsv.write(['a', 'b', 'c', 'd'])\n",
    "writecsv.write(['1', '2', '3', '4'])\n",
    "writecsv.close()"
   ]
  },
  {
   "cell_type": "markdown",
   "id": "6a84df55-01c4-405e-9395-c8f6d6951c9b",
   "metadata": {},
   "source": [
    "***"
   ]
  }
 ],
 "metadata": {
  "kernelspec": {
   "display_name": "Python 3 (ipykernel)",
   "language": "python",
   "name": "python3"
  },
  "language_info": {
   "codemirror_mode": {
    "name": "ipython",
    "version": 3
   },
   "file_extension": ".py",
   "mimetype": "text/x-python",
   "name": "python",
   "nbconvert_exporter": "python",
   "pygments_lexer": "ipython3",
   "version": "3.9.16"
  }
 },
 "nbformat": 4,
 "nbformat_minor": 5
}
