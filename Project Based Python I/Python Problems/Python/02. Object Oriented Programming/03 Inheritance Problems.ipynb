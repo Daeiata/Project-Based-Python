{
 "cells": [
  {
   "cell_type": "markdown",
   "id": "258a182d-351d-4481-ac0b-0ee5164f670a",
   "metadata": {},
   "source": [
    "<img src=\"../../images/banners/python-oop.png\" width=\"600\"/>"
   ]
  },
  {
   "cell_type": "markdown",
   "id": "e27dfd49-4c34-4901-90e9-d294efb1478c",
   "metadata": {},
   "source": [
    "# <img src=\"../../images/logos/python.png\" width=\"23\"/> Inheritance Problems"
   ]
  },
  {
   "cell_type": "markdown",
   "id": "1111e49e-96cf-40e8-86d3-2cc74816ebeb",
   "metadata": {},
   "source": [
    "## Problem 1"
   ]
  },
  {
   "cell_type": "markdown",
   "id": "3737384b-963d-414c-868b-64ab3d9bbc67",
   "metadata": {},
   "source": [
    "Create a simple inheritance hierarchy of three classes that write to text files. \n",
    "- WriteFile\n",
    "- LogFile\n",
    "- DelimFile"
   ]
  },
  {
   "cell_type": "markdown",
   "id": "e555633a-dfd7-44b9-8d29-51cf3750e060",
   "metadata": {},
   "source": [
    "**WriteFile:**  the parent class to both LogFile and DelimFile, does work that is common between them.   Not intended to be instantiated."
   ]
  },
  {
   "cell_type": "markdown",
   "id": "6b9952d9-9607-4f89-9722-8dddd5cca4f1",
   "metadata": {},
   "source": [
    "**LogFile(WriteFile):** its instance writes a date and message to a log file:  \n",
    "2023-01-21 18:35   this is a log message"
   ]
  },
  {
   "cell_type": "markdown",
   "id": "51214248-dba9-4257-93e6-691aaa517d1b",
   "metadata": {},
   "source": [
    "**DelimFile(WriteFile):** its instance writes values separated by a delimeter:   \n",
    "a,b,c,d"
   ]
  },
  {
   "cell_type": "markdown",
   "id": "5dace617-4cd3-4164-b321-a0338d02ca46",
   "metadata": {},
   "source": [
    "**Hint:** you need to `import datetime` "
   ]
  },
  {
   "cell_type": "markdown",
   "id": "84c8cd9e-0a29-4f1d-9750-a244dfd3b250",
   "metadata": {},
   "source": [
    "Example:"
   ]
  },
  {
   "cell_type": "markdown",
   "id": "51e3fc85-7cf4-4dba-a46c-6e897c73faae",
   "metadata": {},
   "source": [
    "```python\n",
    "log = LogFile( 'log.txt' )\n",
    "delim = DelimFile( 'data.csv', ',' )\n",
    "log.write('this is a log message')\n",
    "mydelim.write(['a', 'b', 'c', 'd'])\n",
    "```"
   ]
  },
  {
   "cell_type": "markdown",
   "id": "27f20fef-a30a-4df5-a82f-ffd730196159",
   "metadata": {},
   "source": [
    "# Solution:"
   ]
  },
  {
   "cell_type": "code",
   "execution_count": null,
   "id": "656cf8e3-bebb-48d6-8538-bd8ccf97bd82",
   "metadata": {},
   "outputs": [],
   "source": [
    "from datetime import datetime\n",
    "from abc import ABC, abstractmethod\n",
    "#----------------------------------\n",
    "class WriteFile(ABC):\n",
    "    def __init__(self, filename):\n",
    "        self.filename = filename\n",
    "    \n",
    "    def write_line(self, text):\n",
    "        f = open(self.filename, 'a')\n",
    "        f.write(text + '\\n')\n",
    "        f.close()\n",
    "    \n",
    "    @abstractmethod\n",
    "    def write(self, text):\n",
    "        pass\n",
    "#------------------------------------   \n",
    "class LogFile(WriteFile):\n",
    "        \n",
    "    def write(self, text):\n",
    "        dt = datetime.now().strftime('%Y-%m-%d %H:%M:%S')\n",
    "        text = dt + '\\t' + text\n",
    "        self.write_line(text)\n",
    "#-------------------------------------        \n",
    "class DelimFile(WriteFile):\n",
    "    \n",
    "    def __init__(self, filename, sep):\n",
    "        super().__init__(filename)\n",
    "        self.sep = sep\n",
    "        \n",
    "    def write(self, one_list):\n",
    "        text = self.sep.join(one_list)\n",
    "        self.write_line(text)\n",
    "#------------------------------------\n",
    "log = LogFile('log.txt')\n",
    "log.write('this is a log message')\n",
    "log.write('this is another log message')\n",
    "\n",
    "mydelim = DelimFile('data.csv', ',')                        \n",
    "mydelim.write(['a', 'b', 'c', 'd'])      \n",
    "mydelim.write(['1', '2', '3', '4'])"
   ]
  },
  {
   "cell_type": "markdown",
   "id": "9e33f93a-07c5-4311-9550-baaed4ea6e05",
   "metadata": {},
   "source": [
    "***"
   ]
  }
 ],
 "metadata": {
  "kernelspec": {
   "display_name": "Python 3 (ipykernel)",
   "language": "python",
   "name": "python3"
  },
  "language_info": {
   "codemirror_mode": {
    "name": "ipython",
    "version": 3
   },
   "file_extension": ".py",
   "mimetype": "text/x-python",
   "name": "python",
   "nbconvert_exporter": "python",
   "pygments_lexer": "ipython3",
   "version": "3.9.16"
  }
 },
 "nbformat": 4,
 "nbformat_minor": 5
}
