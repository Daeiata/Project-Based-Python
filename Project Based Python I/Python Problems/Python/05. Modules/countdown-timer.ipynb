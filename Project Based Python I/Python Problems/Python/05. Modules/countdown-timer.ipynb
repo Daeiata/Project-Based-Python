{
 "cells": [
  {
   "cell_type": "markdown",
   "id": "828ab2ef-bd40-4c64-98e9-1f7f0169280a",
   "metadata": {},
   "source": [
    "<img src=\"../../images/banners/python-modules.png\" width=\"600\"/>"
   ]
  },
  {
   "cell_type": "markdown",
   "id": "27c05286-00fc-4271-b8cb-b000ef7541cf",
   "metadata": {},
   "source": [
    "# <img src=\"../../images/logos/python.png\" width=\"23\"/> `time`"
   ]
  },
  {
   "cell_type": "markdown",
   "id": "e644df0f-670d-4ef1-99ec-748ce4c812d2",
   "metadata": {},
   "source": [
    "## Problem 1"
   ]
  },
  {
   "cell_type": "markdown",
   "id": "44dbd7b6-a8e2-4853-8975-73daa147c76b",
   "metadata": {},
   "source": [
    "Write a Python program to create a countdown timer that asks the user for a number of seconds via user input, and it then counts down, second by second, until it displays a message."
   ]
  },
  {
   "cell_type": "markdown",
   "id": "818992bf-0f0c-4478-824c-abc64d880624",
   "metadata": {},
   "source": [
    "## Solution"
   ]
  },
  {
   "cell_type": "code",
   "execution_count": null,
   "id": "22cec6d7-4689-410b-a842-06eccce352c1",
   "metadata": {},
   "outputs": [],
   "source": [
    "import time\n",
    "user_time = int(input(\"Enter a time in seconds: \"))\n",
    "\n",
    "while user_time >= 0:\n",
    "    mins, secs = divmod(user_time, 60)\n",
    "    timer = '{:02d}:{:02d}'.format(mins, secs)\n",
    "    print(timer, end='\\r')\n",
    "    time.sleep(1)\n",
    "    user_time -= 1\n",
    "print('It\\'s over!')"
   ]
  }
 ],
 "metadata": {
  "kernelspec": {
   "display_name": "Python 3 (ipykernel)",
   "language": "python",
   "name": "python3"
  },
  "language_info": {
   "codemirror_mode": {
    "name": "ipython",
    "version": 3
   },
   "file_extension": ".py",
   "mimetype": "text/x-python",
   "name": "python",
   "nbconvert_exporter": "python",
   "pygments_lexer": "ipython3",
   "version": "3.9.7"
  }
 },
 "nbformat": 4,
 "nbformat_minor": 5
}
